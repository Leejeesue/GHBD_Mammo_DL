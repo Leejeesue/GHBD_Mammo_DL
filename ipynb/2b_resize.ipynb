{
 "cells": [
  {
   "cell_type": "code",
   "execution_count": 1,
   "id": "historical-project",
   "metadata": {},
   "outputs": [],
   "source": [
    "from glob import glob\n",
    "from tqdm import tqdm\n",
    "import numpy as np\n",
    "import cv2\n",
    "import re\n",
    "import function as f\n",
    "import os"
   ]
  },
  {
   "cell_type": "code",
   "execution_count": 2,
   "id": "urban-america",
   "metadata": {},
   "outputs": [],
   "source": [
    "# 먼저 padding시켜서 정사각형으로 만들기\n",
    "def pad_to_square(a, LR, pad_value=0): # image, 좌우, 채워넣을 값\n",
    "    m = a.reshape((a.shape[0], -1))\n",
    "    padded = pad_value * np.ones(2 * [max(m.shape)], dtype=m.dtype)\n",
    "    if  LR != 0 : # 좌측이면\n",
    "        padded[0:m.shape[0], 0:m.shape[1]] = m\n",
    "    else : # 우측이면\n",
    "        padded[:,-m.shape[1]:] = m\n",
    "    return padded"
   ]
  },
  {
   "cell_type": "code",
   "execution_count": 3,
   "id": "threatened-bacteria",
   "metadata": {},
   "outputs": [],
   "source": [
    "def get_resize(image, dim, LR): # image, 원하는 타겟 dimension, 좌우\n",
    "    image_square = pad_to_square(image, LR)\n",
    "    image_resize = cv2.resize(image_square, dim, interpolation = cv2.INTER_AREA)\n",
    "    return image_resize"
   ]
  },
  {
   "cell_type": "code",
   "execution_count": 4,
   "id": "objective-engine",
   "metadata": {},
   "outputs": [],
   "source": [
    "def one_hot_encoding(array): # 0,1,2,3값을 각각 one-hot-encoding하여 4개의 레이어로 만들기\n",
    "    array = array.astype(int)\n",
    "    return np.stack(((array==0)*1,(array==1)*1,(array==2)*1,(array==3)*1))\n",
    "\n",
    "def one_hot_reverse(segs): # 다시 0,1,2,3으로 값 만들때\n",
    "    segment = segs[1].copy()\n",
    "    segment[segs[0]==1] = 0    \n",
    "    segment[segs[2]==1] = 2    \n",
    "    segment[segs[3]==1] = 3\n",
    "    return segment"
   ]
  },
  {
   "cell_type": "code",
   "execution_count": 5,
   "id": "falling-humor",
   "metadata": {},
   "outputs": [
    {
     "data": {
      "text/plain": [
       "14069"
      ]
     },
     "execution_count": 5,
     "metadata": {},
     "output_type": "execute_result"
    }
   ],
   "source": [
    "# density label 있는 것들\n",
    "list_segs = glob(\"/data1/home/jyhwang/numpy/segment/*/*\")\n",
    "#list_images = [re.sub(\"segment\",\"image\",i) for i in list_segs]\n",
    "len(list_segs)"
   ]
  },
  {
   "cell_type": "code",
   "execution_count": 6,
   "id": "present-disabled",
   "metadata": {},
   "outputs": [
    {
     "data": {
      "text/plain": [
       "43533"
      ]
     },
     "execution_count": 6,
     "metadata": {},
     "output_type": "execute_result"
    }
   ],
   "source": [
    "# 완전 전체\n",
    "list_total = glob(\"/data1/home/jyhwang/numpy/image/*/*\")\n",
    "len(list_total)"
   ]
  },
  {
   "cell_type": "code",
   "execution_count": 7,
   "id": "executive-header",
   "metadata": {},
   "outputs": [],
   "source": [
    "import random\n",
    "random.shuffle(list_total)"
   ]
  },
  {
   "cell_type": "code",
   "execution_count": 271,
   "id": "proprietary-happening",
   "metadata": {},
   "outputs": [
    {
     "name": "stderr",
     "output_type": "stream",
     "text": [
      "100%|██████████| 14069/14069 [17:23<00:00, 13.48it/s]\n"
     ]
    }
   ],
   "source": [
    "# density label 있는 것들\n",
    "dim = (256, 256)\n",
    "for i in tqdm(range(len(list_segs)),mininterval=5,miniters=50):\n",
    "    image = list_images[i]\n",
    "    segment = list_segs[i]\n",
    "    LR = np.load(image)[0,0]\n",
    "    final = np.load(image)\n",
    "    final = final/final.max()\n",
    "    np.save(re.sub(\"image\",\"image_\"+str(dim[0])+'x'+str(dim[1]),image), get_resize(final, dim = dim, LR = LR))\n",
    "    np.save(re.sub(\"segment\",\"segment_\"+str(dim[0])+'x'+str(dim[1]),segment), one_hot_encoding(get_resize(np.load(segment), dim = dim, LR = LR)))"
   ]
  },
  {
   "cell_type": "code",
   "execution_count": 11,
   "id": "raising-tutorial",
   "metadata": {},
   "outputs": [
    {
     "name": "stderr",
     "output_type": "stream",
     "text": [
      "100%|██████████| 43533/43533 [08:16<00:00, 87.72it/s]  \n"
     ]
    }
   ],
   "source": [
    "# 위에서 돌린 것 말고 나머지 전체\n",
    "dim = (256, 256)\n",
    "for i in tqdm(range(len(list_total)),mininterval=5,miniters=50):\n",
    "    image = list_total[i]\n",
    "    target = re.sub(\"image\",\"image_\"+str(dim[0])+'x'+str(dim[1]),image)\n",
    "    if os.path.exists(target) is False:\n",
    "        final = np.load(image)\n",
    "        final = final/final.max()\n",
    "        try:\n",
    "            np.save(target, get_resize(final, dim = dim, LR = final[0,0]))\n",
    "        except:\n",
    "            pass"
   ]
  },
  {
   "cell_type": "code",
   "execution_count": null,
   "id": "changed-performer",
   "metadata": {},
   "outputs": [],
   "source": [
    "dim = (512, 512)\n",
    "for i in tqdm(range(len(list_segs)),mininterval=5,miniters=50):\n",
    "    image = list_images[i]\n",
    "    segment = list_segs[i]\n",
    "    LR = np.load(image)[0,0]\n",
    "    final = np.load(image)\n",
    "    final = final/final.max()\n",
    "    np.save(re.sub(\"image\",\"image_\"+str(dim[0])+'x'+str(dim[1]),image), get_resize(final, dim = dim, LR = LR))\n",
    "    #np.save(re.sub(\"segment\",\"segment_\"+str(dim[0])+'x'+str(dim[1]),segment), one_hot_encoding(get_resize(np.load(segment), dim = dim, LR = LR)))"
   ]
  }
 ],
 "metadata": {
  "kernelspec": {
   "display_name": "Python 3 (ipykernel)",
   "language": "python",
   "name": "python3"
  },
  "language_info": {
   "codemirror_mode": {
    "name": "ipython",
    "version": 3
   },
   "file_extension": ".py",
   "mimetype": "text/x-python",
   "name": "python",
   "nbconvert_exporter": "python",
   "pygments_lexer": "ipython3",
   "version": "3.9.15"
  }
 },
 "nbformat": 4,
 "nbformat_minor": 5
}
