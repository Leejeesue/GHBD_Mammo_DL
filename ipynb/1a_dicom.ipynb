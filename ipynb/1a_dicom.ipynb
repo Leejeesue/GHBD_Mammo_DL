{
 "cells": [
  {
   "cell_type": "code",
   "execution_count": 6,
   "id": "residential-bishop",
   "metadata": {},
   "outputs": [],
   "source": [
    "import function as f\n",
    "from glob import glob\n",
    "import pandas as pd\n",
    "import re\n",
    "import pydicom\n",
    "import matplotlib.pyplot as plt\n",
    "import numpy as np\n",
    "import shutil\n",
    "from tqdm import tqdm\n",
    "import os"
   ]
  },
  {
   "cell_type": "code",
   "execution_count": 7,
   "id": "announced-greeting",
   "metadata": {},
   "outputs": [],
   "source": [
    "def get_dicom(path):\n",
    "    dicom = pydicom.read_file(path, force=True, stop_before_pixels=False)\n",
    "    return dicom\n",
    "def get_image(input, remove_max=False):\n",
    "    if type(input)==str: # is path\n",
    "        dicom = pydicom.read_file(input, force=True)\n",
    "    else:\n",
    "        dicom = input\n",
    "\n",
    "    try:\n",
    "        image = dicom.pixel_array\n",
    "    except AttributeError:\n",
    "        dicom.file_meta.TransferSyntaxUID = pydicom.uid.ImplicitVRLittleEndian\n",
    "        image = dicom.pixel_array\n",
    "    except:\n",
    "        dicom.decompress()\n",
    "        image = dicom.pixel_array\n",
    "\n",
    "    if remove_max is True:\n",
    "        image[image == image.max()] = 0\n",
    "        image[image <= threshold] = 0\n",
    "    return image\n",
    "def plot(input, cmap=plt.cm.gray) :\n",
    "    if type(input) == np.ndarray:\n",
    "        image = input\n",
    "    else:\n",
    "        image = get_image(input)\n",
    "\n",
    "    fig = plt.figure()\n",
    "    ax = plt.imshow(image, cmap=cmap)\n",
    "    ax = plt.Axes(fig,[0,0,1,1])\n",
    "    plt.axis('off')\n",
    "    plt.show()"
   ]
  },
  {
   "cell_type": "code",
   "execution_count": 8,
   "id": "swiss-official",
   "metadata": {},
   "outputs": [
    {
     "data": {
      "text/plain": [
       "3785"
      ]
     },
     "execution_count": 8,
     "metadata": {},
     "output_type": "execute_result"
    }
   ],
   "source": [
    "list_asan = glob(\"dicom/asan/*\")\n",
    "list_asan.sort()\n",
    "len(list_asan)"
   ]
  },
  {
   "cell_type": "code",
   "execution_count": 9,
   "id": "specialized-helena",
   "metadata": {},
   "outputs": [
    {
     "name": "stderr",
     "output_type": "stream",
     "text": [
      "100%|██████████| 3785/3785 [03:23<00:00, 18.62it/s]\n"
     ]
    }
   ],
   "source": [
    "list_asan_new = []\n",
    "for i in tqdm(range(len(list_asan))):\n",
    "    path = list_asan[i]\n",
    "    dicom = get_dicom(path)\n",
    "    try:\n",
    "        ID = dicom.PatientID\n",
    "    except:\n",
    "        ID = \"NA\"\n",
    "    try:\n",
    "        LR = dicom.ImageLaterality\n",
    "    except:\n",
    "        LR = \"NA\"\n",
    "    try:\n",
    "        VIEW = dicom.ViewPosition\n",
    "    except:\n",
    "        VIEW = \"NA\"\n",
    "    try:\n",
    "        DATE = dicom.StudyDate\n",
    "    except:\n",
    "        DATE = \"NA\"\n",
    "    path_new = ID + '_' + LR + VIEW + '_' + DATE + '.dcm'\n",
    "    list_asan_new.append(path_new)\n",
    "    os.rename(path, 'dicom/asan/' + path_new)\n",
    "    #shutil.copy(path, target)\n",
    "df_asan = pd.DataFrame(zip([i.split('/')[-1] for i in list_asan],list_asan_new), columns=['original','new'])\n",
    "df_asan['center'] = 'asan'\n",
    "df_asan.to_csv(\"csv/tmp_asan.csv\", index=False)"
   ]
  },
  {
   "cell_type": "code",
   "execution_count": 10,
   "id": "blind-israel",
   "metadata": {},
   "outputs": [
    {
     "data": {
      "text/plain": [
       "5674"
      ]
     },
     "execution_count": 10,
     "metadata": {},
     "output_type": "execute_result"
    }
   ],
   "source": [
    "list_brmh = glob(\"dicom/brmh/*\")\n",
    "list_brmh.sort()\n",
    "len(list_brmh)"
   ]
  },
  {
   "cell_type": "code",
   "execution_count": 11,
   "id": "parallel-jaguar",
   "metadata": {},
   "outputs": [
    {
     "name": "stderr",
     "output_type": "stream",
     "text": [
      "100%|██████████| 5674/5674 [10:41<00:00,  8.85it/s]\n"
     ]
    }
   ],
   "source": [
    "list_brmh_new = []\n",
    "for i in tqdm(range(len(list_brmh))):\n",
    "    path = list_brmh[i]\n",
    "    dicom = get_dicom(path)\n",
    "    try:\n",
    "        #ID = dicom.PatientID\n",
    "        ID = path.split('/')[-1].split(\"_\")[0]\n",
    "    except:\n",
    "        ID = \"NA\"\n",
    "    try:\n",
    "        LR = dicom.ImageLaterality\n",
    "    except:\n",
    "        LR = \"NA\"\n",
    "    try:\n",
    "        VIEW = dicom.ViewPosition\n",
    "    except:\n",
    "        VIEW = \"NA\"\n",
    "    try:\n",
    "        DATE = dicom.StudyDate\n",
    "    except:\n",
    "        DATE = \"NA\"\n",
    "    path_new = ID + '_' + LR + VIEW + '_' + DATE + '.dcm'\n",
    "    list_brmh_new.append(path_new)\n",
    "    os.rename(path, 'dicom/brmh/' + path_new)\n",
    "df_brmh = pd.DataFrame(zip([i.split('/')[-1] for i in list_brmh],list_brmh_new), columns=['original','new'])\n",
    "df_brmh['center'] = 'brmh'\n",
    "df_brmh.to_csv(\"csv/tmp_brmh.csv\", index=False)"
   ]
  },
  {
   "cell_type": "code",
   "execution_count": 12,
   "id": "hungarian-mining",
   "metadata": {},
   "outputs": [
    {
     "data": {
      "text/plain": [
       "402"
      ]
     },
     "execution_count": 12,
     "metadata": {},
     "output_type": "execute_result"
    }
   ],
   "source": [
    "list_ilsan = glob(\"dicom/ilsan/*\")\n",
    "list_ilsan.sort()\n",
    "len(list_ilsan)"
   ]
  },
  {
   "cell_type": "code",
   "execution_count": 13,
   "id": "surgical-register",
   "metadata": {},
   "outputs": [
    {
     "name": "stderr",
     "output_type": "stream",
     "text": [
      "100%|██████████| 402/402 [00:44<00:00,  8.94it/s]\n"
     ]
    }
   ],
   "source": [
    "list_ilsan_new = []\n",
    "for i in tqdm(range(len(list_ilsan))):\n",
    "    path = list_ilsan[i]\n",
    "    dicom = get_dicom(path)\n",
    "    try:\n",
    "        ID = dicom.PatientID\n",
    "    except:\n",
    "        ID = \"NA\"\n",
    "    try:\n",
    "        LR = dicom.ImageLaterality\n",
    "    except:\n",
    "        LR = \"NA\"\n",
    "    try:\n",
    "        VIEW = dicom.ViewPosition\n",
    "    except:\n",
    "        VIEW = \"NA\"\n",
    "    try:\n",
    "        DATE = dicom.StudyDate\n",
    "    except:\n",
    "        DATE = \"NA\"\n",
    "    path_new = ID + '_' + LR + VIEW + '_' + DATE + '.dcm'\n",
    "    list_ilsan_new.append(path_new)\n",
    "    os.rename(path, 'dicom/ilsan/' + path_new)\n",
    "df_ilsan = pd.DataFrame(zip([i.split('/')[-1] for i in list_ilsan],list_ilsan_new), columns=['original','new'])\n",
    "df_ilsan['center'] = 'ilsan'\n",
    "df_ilsan.to_csv(\"csv/tmp_ilsan.csv\", index=False)"
   ]
  },
  {
   "cell_type": "markdown",
   "id": "a33164b4",
   "metadata": {},
   "source": [
    "### NCC2018"
   ]
  },
  {
   "cell_type": "code",
   "execution_count": 14,
   "id": "desirable-exhibition",
   "metadata": {},
   "outputs": [
    {
     "data": {
      "text/plain": [
       "0"
      ]
     },
     "execution_count": 14,
     "metadata": {},
     "output_type": "execute_result"
    }
   ],
   "source": [
    "list_ncc2018_1st = []\n",
    "for path, currentDirectory, files in os.walk(\"dicom/ncc2018/NationalCancer1st/\"):\n",
    "    for file in files:\n",
    "        list_ncc2018_1st.append(os.path.join(path, file))\n",
    "len(list_ncc2018_1st)"
   ]
  },
  {
   "cell_type": "code",
   "execution_count": 15,
   "id": "optimum-guard",
   "metadata": {},
   "outputs": [
    {
     "name": "stderr",
     "output_type": "stream",
     "text": [
      "0it [00:00, ?it/s]\n"
     ]
    }
   ],
   "source": [
    "list_ncc2018_1st_new = []\n",
    "for i in tqdm(range(len(list_ncc2018_1st))):\n",
    "    path = list_ncc2018_1st[i]\n",
    "    dicom = get_dicom(path)\n",
    "    try:\n",
    "        ID = dicom.PatientID\n",
    "        ID = re.sub('-','',ID)\n",
    "        if ID == \"ANONYMOUS\" or \"ANONYMIZED\":\n",
    "            ID = list_ncc2018_1st[i].split('/')[5]\n",
    "        \n",
    "    except:\n",
    "        \"NA\"\n",
    "    try:\n",
    "        LR = dicom.ImageLaterality\n",
    "    except:\n",
    "        LR = \"NA\"\n",
    "    try:\n",
    "        VIEW = dicom.ViewPosition\n",
    "    except:\n",
    "        VIEW = \"NA\"\n",
    "    try:\n",
    "        DATE = dicom.StudyDate\n",
    "    except:\n",
    "        DATE = \"NA\"\n",
    "    path_new = ID + '_' + LR + VIEW + '_' + DATE + '.dcm'\n",
    "    list_ncc2018_1st_new.append(path_new)\n",
    "    target = \"/\".join(path.split('/')[:-1])+'/'+path_new\n",
    "    os.rename(path, target)\n",
    "df_ncc2018_1st = pd.DataFrame(zip(ID, [i.split('/')[-1] for i in list_ncc2018_1st],list_ncc2018_1st_new), columns=['ID','original','new'])\n",
    "df_ncc2018_1st['center'] = 'ncc2018_1st'\n",
    "df_ncc2018_1st.to_csv(\"csv/tmp_ncc2018_1st.csv\", index=False)"
   ]
  },
  {
   "cell_type": "code",
   "execution_count": 7,
   "id": "still-trinidad",
   "metadata": {},
   "outputs": [
    {
     "data": {
      "text/plain": [
       "[]"
      ]
     },
     "execution_count": 7,
     "metadata": {},
     "output_type": "execute_result"
    }
   ],
   "source": [
    "list_ncc2018_1st = glob(\"dicom/ncc2018/NationalCancer1st/*\")\n",
    "list_ncc2018_1st = [i for i in list_ncc2018_1st if len(i.split('/')[-1].split('_')[0])!=8]\n",
    "list_ncc2018_1st[:10]"
   ]
  },
  {
   "cell_type": "code",
   "execution_count": 345,
   "id": "posted-error",
   "metadata": {},
   "outputs": [
    {
     "name": "stderr",
     "output_type": "stream",
     "text": [
      "100%|██████████| 151/151 [00:00<00:00, 227.50it/s]\n"
     ]
    }
   ],
   "source": [
    "list_ncc2018_1st_new = []\n",
    "for i in tqdm(range(len(list_ncc2018_1st))):\n",
    "    path = list_ncc2018_1st[i]\n",
    "    dicom = get_dicom(path)\n",
    "    try:\n",
    "        ID = dicom.PatientID\n",
    "        ID = re.sub('-','',ID)\n",
    "        if ID == \"ANONYMOUS\" or \"ANONYMIZED\":\n",
    "            ID = list_ncc2018_1st[i].split('/')[5]\n",
    "        \n",
    "    except:\n",
    "        \"NA\"\n",
    "    try:\n",
    "        LR = dicom.ImageLaterality\n",
    "    except:\n",
    "        LR = \"NA\"\n",
    "    try:\n",
    "        VIEW = dicom.ViewPosition\n",
    "    except:\n",
    "        VIEW = \"NA\"\n",
    "    try:\n",
    "        DATE = dicom.StudyDate\n",
    "    except:\n",
    "        DATE = \"NA\"\n",
    "    path_new = ID + '_' + LR + VIEW + '_' + DATE + '.dcm'\n",
    "    list_ncc2018_1st_new.append(path_new)\n",
    "    target = \"/\".join(path.split('/')[:-1])+'/'+path_new\n",
    "    os.rename(path, target)"
   ]
  },
  {
   "cell_type": "code",
   "execution_count": 8,
   "id": "hispanic-consideration",
   "metadata": {},
   "outputs": [
    {
     "data": {
      "text/plain": [
       "0"
      ]
     },
     "execution_count": 8,
     "metadata": {},
     "output_type": "execute_result"
    }
   ],
   "source": [
    "list_ncc2018_2nd = []\n",
    "for path, currentDirectory, files in os.walk(\"dicom/ncc2018/NationalCancer2nd/\"):\n",
    "    for file in files:\n",
    "        list_ncc2018_2nd.append(os.path.join(path, file))\n",
    "len(list_ncc2018_2nd)"
   ]
  },
  {
   "cell_type": "code",
   "execution_count": 284,
   "id": "severe-ontario",
   "metadata": {},
   "outputs": [
    {
     "name": "stderr",
     "output_type": "stream",
     "text": [
      "100%|██████████| 2808/2808 [00:11<00:00, 236.86it/s]\n"
     ]
    }
   ],
   "source": [
    "list_ncc2018_2nd_new = []\n",
    "for i in tqdm(range(len(list_ncc2018_2nd))):\n",
    "    path = list_ncc2018_2nd[i]\n",
    "    dicom = get_dicom(path)\n",
    "    try:\n",
    "        ID = dicom.PatientID\n",
    "        ID = re.sub('-','',ID)\n",
    "        if ID == \"ANONYMOUS\":\n",
    "            ID = list_ncc2018_2nd[i].split('/')[3]\n",
    "    except:\n",
    "        \"NA\"\n",
    "    try:\n",
    "        LR = dicom.ImageLaterality\n",
    "    except:\n",
    "        LR = \"NA\"\n",
    "    try:\n",
    "        VIEW = dicom.ViewPosition\n",
    "    except:\n",
    "        VIEW = \"NA\"\n",
    "    try:\n",
    "        DATE = dicom.StudyDate\n",
    "    except:\n",
    "        DATE = \"NA\"\n",
    "    path_new = ID + '_' + LR + VIEW + '_' + DATE + '.dcm'\n",
    "    list_ncc2018_2nd_new.append(path_new)\n",
    "    target = \"/\".join(path.split('/')[:-1])+'/'+path_new\n",
    "    os.rename(path, target)\n",
    "df_ncc2018_2nd = pd.DataFrame(zip([i.split('/')[-1] for i in list_ncc2018_2nd],list_ncc2018_2nd_new), columns=['original','new'])\n",
    "df_ncc2018_2nd['center'] = 'ncc2018_2nd'\n",
    "df_ncc2018_2nd.to_csv(\"csv/tmp_ncc2018_2nd.csv\", index=False)"
   ]
  },
  {
   "cell_type": "code",
   "execution_count": 16,
   "id": "owned-variation",
   "metadata": {},
   "outputs": [],
   "source": [
    "list_ncc2018 = glob(\"dicom/ncc2018/*/*/*\")"
   ]
  },
  {
   "cell_type": "code",
   "execution_count": 17,
   "id": "focal-asbestos",
   "metadata": {},
   "outputs": [
    {
     "name": "stderr",
     "output_type": "stream",
     "text": [
      "0it [00:00, ?it/s]\n"
     ]
    }
   ],
   "source": [
    "for i in tqdm(range(len(list_ncc2018))):\n",
    "    path = list_ncc2018[i]\n",
    "    target = re.sub(\".dcm\",\"_\"+path.split('/')[3].upper() +\".dcm\",path)\n",
    "    os.rename(path, target)"
   ]
  },
  {
   "cell_type": "markdown",
   "id": "cb04cce0",
   "metadata": {},
   "source": [
    "### NCC2020"
   ]
  },
  {
   "cell_type": "code",
   "execution_count": 18,
   "id": "median-canada",
   "metadata": {},
   "outputs": [
    {
     "data": {
      "text/plain": [
       "0"
      ]
     },
     "execution_count": 18,
     "metadata": {},
     "output_type": "execute_result"
    }
   ],
   "source": [
    "list_ncc2020 = glob(\"dicom/ncc2020/*/*\")\n",
    "list_ncc2020.sort()\n",
    "len(list_ncc2020)"
   ]
  },
  {
   "cell_type": "code",
   "execution_count": 550,
   "id": "younger-ocean",
   "metadata": {},
   "outputs": [
    {
     "name": "stderr",
     "output_type": "stream",
     "text": [
      "100%|██████████| 30000/30000 [20:45<00:00, 24.09it/s]\n"
     ]
    }
   ],
   "source": [
    "list_ncc2020_new = []\n",
    "for i in tqdm(range(len(list_ncc2020))):\n",
    "    path = list_ncc2020[i]\n",
    "    dicom = get_dicom(path)\n",
    "    try:\n",
    "        ID = list_ncc2020[i].split('/')[-1].split('_')[0]\n",
    "    except:\n",
    "        \"NA\"\n",
    "    try:\n",
    "        LR = dicom.ImageLaterality\n",
    "    except:\n",
    "        LR = \"NA\"\n",
    "    try:\n",
    "        VIEW = dicom.ViewPosition\n",
    "    except:\n",
    "        VIEW = \"NA\"\n",
    "    try:\n",
    "        DATE = dicom.StudyDate\n",
    "    except:\n",
    "        DATE = \"NA\"\n",
    "    path_new = ID + '_' + LR + VIEW + '_' + DATE + '.dcm'\n",
    "    list_ncc2020_new.append(path_new)\n",
    "    target = \"/\".join(path.split('/')[:-1])+'/'+path_new\n",
    "    os.rename(path, target)"
   ]
  },
  {
   "cell_type": "markdown",
   "id": "baa64531",
   "metadata": {},
   "source": [
    "### Samsung"
   ]
  },
  {
   "cell_type": "code",
   "execution_count": 19,
   "id": "confirmed-stroke",
   "metadata": {},
   "outputs": [],
   "source": [
    "list_samsung = glob(\"dicom/samsung/*\")"
   ]
  },
  {
   "cell_type": "code",
   "execution_count": 20,
   "id": "certified-instrument",
   "metadata": {},
   "outputs": [
    {
     "name": "stderr",
     "output_type": "stream",
     "text": [
      "100%|██████████| 15650/15650 [00:00<00:00, 57756.92it/s]\n"
     ]
    }
   ],
   "source": [
    "for i in tqdm(range(len(list_samsung))):\n",
    "    path = list_samsung[i]\n",
    "    i = path.split('_')\n",
    "    target = i[0]+\"_\"+i[2].split('.')[0]+\"_\"+i[1]+'.dcm'\n",
    "    os.rename(path, target)"
   ]
  },
  {
   "cell_type": "code",
   "execution_count": 21,
   "id": "elect-arrest",
   "metadata": {},
   "outputs": [],
   "source": [
    "list_twin = glob(\"dicom/twin/*\")"
   ]
  },
  {
   "cell_type": "markdown",
   "id": "d5276d87",
   "metadata": {},
   "source": [
    "### twin"
   ]
  },
  {
   "cell_type": "code",
   "execution_count": 22,
   "id": "theoretical-italic",
   "metadata": {},
   "outputs": [
    {
     "name": "stderr",
     "output_type": "stream",
     "text": [
      "100%|██████████| 3697/3697 [00:00<00:00, 37228.41it/s]\n"
     ]
    }
   ],
   "source": [
    "for i in tqdm(range(len(list_twin))):\n",
    "    path = list_twin[i]\n",
    "    i = path.split('_')\n",
    "    target = i[0]+\"_\"+i[2].split('.')[0]+\"_\"+i[1]+'.dcm'\n",
    "    os.rename(path, target)"
   ]
  },
  {
   "cell_type": "markdown",
   "id": "physical-flour",
   "metadata": {},
   "source": [
    "### get Birthday"
   ]
  },
  {
   "cell_type": "code",
   "execution_count": 23,
   "id": "japanese-bones",
   "metadata": {},
   "outputs": [
    {
     "data": {
      "text/plain": [
       "67749"
      ]
     },
     "execution_count": 23,
     "metadata": {},
     "output_type": "execute_result"
    }
   ],
   "source": [
    "list_dicom = sorted(glob(\"dicom/*/*\"))\n",
    "len(list_dicom)"
   ]
  },
  {
   "cell_type": "code",
   "execution_count": 24,
   "id": "offshore-mouth",
   "metadata": {},
   "outputs": [],
   "source": [
    "df_dicom = pd.DataFrame(list_dicom,columns=['file'])\n",
    "df_dicom['ID'] = [i.split('/')[-1].split('_')[0] for i in df_dicom.file]\n",
    "df_dicom['CENTER'] = [i.split('/')[-2] for i in df_dicom.file]\n",
    "df_dicom = df_dicom.drop_duplicates(['ID','CENTER'])"
   ]
  },
  {
   "cell_type": "code",
   "execution_count": 27,
   "id": "careful-indicator",
   "metadata": {},
   "outputs": [
    {
     "name": "stderr",
     "output_type": "stream",
     "text": [
      "100%|██████████| 17892/17892 [16:27<00:00, 18.11it/s]\n"
     ]
    }
   ],
   "source": [
    "result = {}\n",
    "list_dicom = df_dicom.file.tolist()\n",
    "for i in tqdm(range(len(list_dicom)),miniters=50, mininterval=5):\n",
    "    file = list_dicom[i]\n",
    "    try:\n",
    "        bd = get_dicom(list_dicom[i]).PatientBirthDate\n",
    "    except:\n",
    "        bd = \"\"\n",
    "    result[file] = bd"
   ]
  },
  {
   "cell_type": "code",
   "execution_count": 30,
   "id": "2cb5ca31",
   "metadata": {},
   "outputs": [
    {
     "data": {
      "text/plain": [
       "0         dicom/asan/10512416_LCC_20070829.dcm\n",
       "1         dicom/asan/10516254_LCC_20080709.dcm\n",
       "2         dicom/asan/10531695_LCC_20090205.dcm\n",
       "3         dicom/asan/10531811_LCC_20080218.dcm\n",
       "4         dicom/asan/10532852_LCC_20071214.dcm\n",
       "                         ...                  \n",
       "17887    dicom/twin/E2005131_20071119_LMLO.dcm\n",
       "17888    dicom/twin/E2005171_20071120_LMLO.dcm\n",
       "17889    dicom/twin/E2005191_20071122_LMLO.dcm\n",
       "17890    dicom/twin/E2005201_20071122_LMLO.dcm\n",
       "17891     dicom/twin/E3000450_20120910_LCC.dcm\n",
       "Name: file, Length: 17892, dtype: object"
      ]
     },
     "execution_count": 30,
     "metadata": {},
     "output_type": "execute_result"
    }
   ],
   "source": [
    "df_dicom.file"
   ]
  },
  {
   "cell_type": "code",
   "execution_count": 31,
   "id": "substantial-overall",
   "metadata": {},
   "outputs": [],
   "source": [
    "df_dicom = pd.DataFrame.from_dict(result, orient=\"index\", columns=['DATE_birth']).reset_index().rename(columns={\"index\":\"file\"})\n",
    "df_dicom['CENTER'] = [i.split('/')[1] for i in df_dicom.file]\n",
    "df_dicom['ID'] = [i.split('/')[-1].split('_')[0] for i in df_dicom.file]"
   ]
  },
  {
   "cell_type": "code",
   "execution_count": 35,
   "id": "operating-processing",
   "metadata": {},
   "outputs": [],
   "source": [
    "df_dicom[[\"CENTER\",\"ID\",\"DATE_birth\"]].to_csv(\"csv/birth.csv\",index=False)"
   ]
  },
  {
   "cell_type": "markdown",
   "id": "variable-continent",
   "metadata": {},
   "source": [
    "### check file"
   ]
  },
  {
   "cell_type": "code",
   "execution_count": 36,
   "id": "therapeutic-crack",
   "metadata": {},
   "outputs": [
    {
     "data": {
      "text/plain": [
       "67749"
      ]
     },
     "execution_count": 36,
     "metadata": {},
     "output_type": "execute_result"
    }
   ],
   "source": [
    "list_files = glob(\"dicom/*/*\")\n",
    "list_files.sort()\n",
    "len(list_files)"
   ]
  },
  {
   "cell_type": "code",
   "execution_count": 43,
   "id": "featured-angle",
   "metadata": {},
   "outputs": [
    {
     "name": "stderr",
     "output_type": "stream",
     "text": [
      "100%|██████████| 67749/67749 [00:00<00:00, 161727.22it/s]\n"
     ]
    }
   ],
   "source": [
    "total = {}\n",
    "for file in tqdm(list_files):\n",
    "    center = file.split(\"/\")[1]\n",
    "    dicom = file.split(\"/\")[2]\n",
    "    d = dicom.split(\"_\")\n",
    "    if len(d)==3:\n",
    "        ID = d[0]\n",
    "        LR = d[1]\n",
    "        DATE = re.sub(\".dcm\",\"\",d[2])\n",
    "        OTHER = \"\"\n",
    "    elif len(d)==4:\n",
    "        ID = d[0]\n",
    "        LR = d[1]\n",
    "        DATE = d[2]\n",
    "        OTHER = re.sub(\".dcm\",\"\",d[3])\n",
    "    total[file] = [center, dicom, ID, LR, DATE, OTHER]"
   ]
  },
  {
   "cell_type": "code",
   "execution_count": 44,
   "id": "broadband-cuisine",
   "metadata": {},
   "outputs": [
    {
     "data": {
      "text/html": [
       "<div>\n",
       "<style scoped>\n",
       "    .dataframe tbody tr th:only-of-type {\n",
       "        vertical-align: middle;\n",
       "    }\n",
       "\n",
       "    .dataframe tbody tr th {\n",
       "        vertical-align: top;\n",
       "    }\n",
       "\n",
       "    .dataframe thead th {\n",
       "        text-align: right;\n",
       "    }\n",
       "</style>\n",
       "<table border=\"1\" class=\"dataframe\">\n",
       "  <thead>\n",
       "    <tr style=\"text-align: right;\">\n",
       "      <th></th>\n",
       "      <th>CENTER</th>\n",
       "      <th>DICOM</th>\n",
       "      <th>ID</th>\n",
       "      <th>LR</th>\n",
       "      <th>DATE</th>\n",
       "      <th>MEMO</th>\n",
       "    </tr>\n",
       "  </thead>\n",
       "  <tbody>\n",
       "    <tr>\n",
       "      <th>dicom/asan/10512416_LCC_20070829.dcm</th>\n",
       "      <td>asan</td>\n",
       "      <td>10512416_LCC_20070829.dcm</td>\n",
       "      <td>10512416</td>\n",
       "      <td>LCC</td>\n",
       "      <td>20070829</td>\n",
       "      <td></td>\n",
       "    </tr>\n",
       "    <tr>\n",
       "      <th>dicom/asan/10512416_RCC_20070829.dcm</th>\n",
       "      <td>asan</td>\n",
       "      <td>10512416_RCC_20070829.dcm</td>\n",
       "      <td>10512416</td>\n",
       "      <td>RCC</td>\n",
       "      <td>20070829</td>\n",
       "      <td></td>\n",
       "    </tr>\n",
       "    <tr>\n",
       "      <th>dicom/asan/10516254_LCC_20080709.dcm</th>\n",
       "      <td>asan</td>\n",
       "      <td>10516254_LCC_20080709.dcm</td>\n",
       "      <td>10516254</td>\n",
       "      <td>LCC</td>\n",
       "      <td>20080709</td>\n",
       "      <td></td>\n",
       "    </tr>\n",
       "    <tr>\n",
       "      <th>dicom/asan/10531695_LCC_20090205.dcm</th>\n",
       "      <td>asan</td>\n",
       "      <td>10531695_LCC_20090205.dcm</td>\n",
       "      <td>10531695</td>\n",
       "      <td>LCC</td>\n",
       "      <td>20090205</td>\n",
       "      <td></td>\n",
       "    </tr>\n",
       "    <tr>\n",
       "      <th>dicom/asan/10531695_RCC_20090205.dcm</th>\n",
       "      <td>asan</td>\n",
       "      <td>10531695_RCC_20090205.dcm</td>\n",
       "      <td>10531695</td>\n",
       "      <td>RCC</td>\n",
       "      <td>20090205</td>\n",
       "      <td></td>\n",
       "    </tr>\n",
       "    <tr>\n",
       "      <th>...</th>\n",
       "      <td>...</td>\n",
       "      <td>...</td>\n",
       "      <td>...</td>\n",
       "      <td>...</td>\n",
       "      <td>...</td>\n",
       "      <td>...</td>\n",
       "    </tr>\n",
       "    <tr>\n",
       "      <th>dicom/twin/E2005201_20071122_RMLO.dcm</th>\n",
       "      <td>twin</td>\n",
       "      <td>E2005201_20071122_RMLO.dcm</td>\n",
       "      <td>E2005201</td>\n",
       "      <td>20071122</td>\n",
       "      <td>RMLO</td>\n",
       "      <td></td>\n",
       "    </tr>\n",
       "    <tr>\n",
       "      <th>dicom/twin/E3000450_20120910_LCC.dcm</th>\n",
       "      <td>twin</td>\n",
       "      <td>E3000450_20120910_LCC.dcm</td>\n",
       "      <td>E3000450</td>\n",
       "      <td>20120910</td>\n",
       "      <td>LCC</td>\n",
       "      <td></td>\n",
       "    </tr>\n",
       "    <tr>\n",
       "      <th>dicom/twin/E3000450_20120910_LMLO.dcm</th>\n",
       "      <td>twin</td>\n",
       "      <td>E3000450_20120910_LMLO.dcm</td>\n",
       "      <td>E3000450</td>\n",
       "      <td>20120910</td>\n",
       "      <td>LMLO</td>\n",
       "      <td></td>\n",
       "    </tr>\n",
       "    <tr>\n",
       "      <th>dicom/twin/E3000450_20120910_RCC.dcm</th>\n",
       "      <td>twin</td>\n",
       "      <td>E3000450_20120910_RCC.dcm</td>\n",
       "      <td>E3000450</td>\n",
       "      <td>20120910</td>\n",
       "      <td>RCC</td>\n",
       "      <td></td>\n",
       "    </tr>\n",
       "    <tr>\n",
       "      <th>dicom/twin/E3000450_20120910_RMLO.dcm</th>\n",
       "      <td>twin</td>\n",
       "      <td>E3000450_20120910_RMLO.dcm</td>\n",
       "      <td>E3000450</td>\n",
       "      <td>20120910</td>\n",
       "      <td>RMLO</td>\n",
       "      <td></td>\n",
       "    </tr>\n",
       "  </tbody>\n",
       "</table>\n",
       "<p>67749 rows × 6 columns</p>\n",
       "</div>"
      ],
      "text/plain": [
       "                                      CENTER                       DICOM  \\\n",
       "dicom/asan/10512416_LCC_20070829.dcm    asan   10512416_LCC_20070829.dcm   \n",
       "dicom/asan/10512416_RCC_20070829.dcm    asan   10512416_RCC_20070829.dcm   \n",
       "dicom/asan/10516254_LCC_20080709.dcm    asan   10516254_LCC_20080709.dcm   \n",
       "dicom/asan/10531695_LCC_20090205.dcm    asan   10531695_LCC_20090205.dcm   \n",
       "dicom/asan/10531695_RCC_20090205.dcm    asan   10531695_RCC_20090205.dcm   \n",
       "...                                      ...                         ...   \n",
       "dicom/twin/E2005201_20071122_RMLO.dcm   twin  E2005201_20071122_RMLO.dcm   \n",
       "dicom/twin/E3000450_20120910_LCC.dcm    twin   E3000450_20120910_LCC.dcm   \n",
       "dicom/twin/E3000450_20120910_LMLO.dcm   twin  E3000450_20120910_LMLO.dcm   \n",
       "dicom/twin/E3000450_20120910_RCC.dcm    twin   E3000450_20120910_RCC.dcm   \n",
       "dicom/twin/E3000450_20120910_RMLO.dcm   twin  E3000450_20120910_RMLO.dcm   \n",
       "\n",
       "                                             ID        LR      DATE MEMO  \n",
       "dicom/asan/10512416_LCC_20070829.dcm   10512416       LCC  20070829       \n",
       "dicom/asan/10512416_RCC_20070829.dcm   10512416       RCC  20070829       \n",
       "dicom/asan/10516254_LCC_20080709.dcm   10516254       LCC  20080709       \n",
       "dicom/asan/10531695_LCC_20090205.dcm   10531695       LCC  20090205       \n",
       "dicom/asan/10531695_RCC_20090205.dcm   10531695       RCC  20090205       \n",
       "...                                         ...       ...       ...  ...  \n",
       "dicom/twin/E2005201_20071122_RMLO.dcm  E2005201  20071122      RMLO       \n",
       "dicom/twin/E3000450_20120910_LCC.dcm   E3000450  20120910       LCC       \n",
       "dicom/twin/E3000450_20120910_LMLO.dcm  E3000450  20120910      LMLO       \n",
       "dicom/twin/E3000450_20120910_RCC.dcm   E3000450  20120910       RCC       \n",
       "dicom/twin/E3000450_20120910_RMLO.dcm  E3000450  20120910      RMLO       \n",
       "\n",
       "[67749 rows x 6 columns]"
      ]
     },
     "execution_count": 44,
     "metadata": {},
     "output_type": "execute_result"
    }
   ],
   "source": [
    "df_total = pd.DataFrame.from_dict(total, orient=\"index\", columns=[\"CENTER\",\"DICOM\",\"ID\",\"LR\",\"DATE\",\"MEMO\"])\n",
    "df_total"
   ]
  },
  {
   "cell_type": "code",
   "execution_count": 45,
   "id": "hollywood-nirvana",
   "metadata": {},
   "outputs": [
    {
     "name": "stderr",
     "output_type": "stream",
     "text": [
      "100%|██████████| 67749/67749 [1:16:01<00:00, 14.85it/s]\n"
     ]
    }
   ],
   "source": [
    "list_vendor = []\n",
    "for i in tqdm(range(len(df_total))):\n",
    "    path = df_total.index[i]\n",
    "    try:\n",
    "        dicom = get_dicom(path)\n",
    "    except:\n",
    "        vendor = \"NA\"\n",
    "        pass\n",
    "\n",
    "    try:\n",
    "        vendor = dicom.Manufacturer\n",
    "    except:\n",
    "        vendor = \"NA\"\n",
    "    list_vendor.append(vendor)"
   ]
  },
  {
   "cell_type": "code",
   "execution_count": 46,
   "id": "matched-immigration",
   "metadata": {},
   "outputs": [],
   "source": [
    "df_total[\"VENDOR\"] = list_vendor"
   ]
  },
  {
   "cell_type": "code",
   "execution_count": 47,
   "id": "96c4b8bb",
   "metadata": {},
   "outputs": [
    {
     "data": {
      "text/plain": [
       "VENDOR\n",
       "GE MEDICAL SYSTEMS            31960\n",
       "HOLOGIC, Inc.                 29923\n",
       "LORAD                          5829\n",
       "SIEMENS                          19\n",
       "FUJIFILM Corporation              6\n",
       "MEDI-FUTURE MEDICAL SYSTEM        4\n",
       "LUMISYS                           3\n",
       "FUJI PHOTO FILM Co., ltd.         2\n",
       "Agfa-Gevaert AG                   1\n",
       "KODAK                             1\n",
       "KONICA MINOLTA                    1\n",
       "dtype: int64"
      ]
     },
     "execution_count": 47,
     "metadata": {},
     "output_type": "execute_result"
    }
   ],
   "source": [
    "df_total.value_counts(\"VENDOR\")"
   ]
  },
  {
   "cell_type": "code",
   "execution_count": 48,
   "id": "20e8c0fa-f8d1-4d2d-9a8b-9fc404e2f96d",
   "metadata": {},
   "outputs": [
    {
     "data": {
      "text/plain": [
       "'HOLOGIC, Inc.'"
      ]
     },
     "execution_count": 48,
     "metadata": {},
     "output_type": "execute_result"
    }
   ],
   "source": [
    "list_vendor[6000]"
   ]
  },
  {
   "cell_type": "code",
   "execution_count": 49,
   "id": "employed-working",
   "metadata": {},
   "outputs": [],
   "source": [
    "df_total.to_csv(\"csv/dicom.csv\", index_label=\"FILE\")"
   ]
  },
  {
   "cell_type": "code",
   "execution_count": null,
   "id": "0b1680af-04da-4b0f-82bc-912f604515f5",
   "metadata": {},
   "outputs": [],
   "source": []
  }
 ],
 "metadata": {
  "kernelspec": {
   "display_name": "Python 3 (ipykernel)",
   "language": "python",
   "name": "python3"
  },
  "language_info": {
   "codemirror_mode": {
    "name": "ipython",
    "version": 3
   },
   "file_extension": ".py",
   "mimetype": "text/x-python",
   "name": "python",
   "nbconvert_exporter": "python",
   "pygments_lexer": "ipython3",
   "version": "3.9.15"
  }
 },
 "nbformat": 4,
 "nbformat_minor": 5
}
