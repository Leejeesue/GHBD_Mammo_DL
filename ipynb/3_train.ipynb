{
 "cells": [
  {
   "cell_type": "code",
   "execution_count": 50,
   "id": "ab0889b4-b84f-4c6b-a60c-c0b6b5972f44",
   "metadata": {},
   "outputs": [
    {
     "data": {
      "text/plain": [
       "'/home/jslee/mam/mammo_code'"
      ]
     },
     "execution_count": 50,
     "metadata": {},
     "output_type": "execute_result"
    }
   ],
   "source": [
    "pwd"
   ]
  },
  {
   "cell_type": "code",
   "execution_count": 2,
   "id": "excited-solomon",
   "metadata": {},
   "outputs": [],
   "source": [
    "import pandas as pd\n",
    "from glob import glob\n",
    "import re\n",
    "import random\n",
    "import numpy as np\n",
    "import function as f"
   ]
  },
  {
   "cell_type": "markdown",
   "id": "aquatic-consent",
   "metadata": {},
   "source": [
    "### DENSITY"
   ]
  },
  {
   "cell_type": "code",
   "execution_count": 3,
   "id": "informative-irish",
   "metadata": {},
   "outputs": [],
   "source": [
    "segs = sorted(glob(\"numpy/segment_256x256/*/*\"))\n",
    "images = sorted(glob(\"numpy/image_256x256/*/*\"))"
   ]
  },
  {
   "cell_type": "code",
   "execution_count": 4,
   "id": "threaded-graduation",
   "metadata": {},
   "outputs": [
    {
     "name": "stdout",
     "output_type": "stream",
     "text": [
      "14069\n",
      "43532\n"
     ]
    }
   ],
   "source": [
    "print(len(segs))\n",
    "print(len(images))"
   ]
  },
  {
   "cell_type": "code",
   "execution_count": 5,
   "id": "comic-costa",
   "metadata": {},
   "outputs": [],
   "source": [
    "# segs가 있는 14069개에 대하여 정보 합치기"
   ]
  },
  {
   "cell_type": "code",
   "execution_count": 6,
   "id": "e7053dc1",
   "metadata": {},
   "outputs": [
    {
     "data": {
      "text/plain": [
       "'numpy/segment_256x256/asan/10512416_RCC_20070829.npy'"
      ]
     },
     "execution_count": 6,
     "metadata": {},
     "output_type": "execute_result"
    }
   ],
   "source": [
    "df = pd.DataFrame(segs,columns=['file_image'])\n",
    "df.file_image.tolist()[0]"
   ]
  },
  {
   "cell_type": "code",
   "execution_count": 7,
   "id": "norwegian-highland",
   "metadata": {},
   "outputs": [],
   "source": [
    "df = pd.DataFrame(segs,columns=['file_image'])\n",
    "df['file'] = [re.sub('.npy','.dcm',i.split(\"/\")[3]) for i in df.file_image.tolist()]\n",
    "df['CENTER'] = [re.sub('.npy','.dcm',i.split(\"/\")[2]) for i in df.file_image.tolist()]\n",
    "df[\"ID\"] = [i.split(\"_\")[0] for i in df.file]\n",
    "df[\"SIDE\"] = [i.split(\"_\")[1] for i in df.file]"
   ]
  },
  {
   "cell_type": "code",
   "execution_count": 8,
   "id": "6e5e9f68",
   "metadata": {},
   "outputs": [
    {
     "data": {
      "text/plain": [
       "'RCC'"
      ]
     },
     "execution_count": 8,
     "metadata": {},
     "output_type": "execute_result"
    }
   ],
   "source": [
    "df.SIDE[0]"
   ]
  },
  {
   "cell_type": "code",
   "execution_count": 9,
   "id": "nutritional-dispatch",
   "metadata": {},
   "outputs": [],
   "source": [
    "meta_total = pd.read_csv(\"csv/meta.csv\")"
   ]
  },
  {
   "cell_type": "code",
   "execution_count": 10,
   "id": "latest-cliff",
   "metadata": {},
   "outputs": [],
   "source": [
    "meta_total.loc[[i in ['LCC',\"1\",\"CCL\",\"L\"] for i in meta_total.SIDE_case],\"SIDE_case\"] = \"LCC\"\n",
    "meta_total.loc[[i in ['RCC',\"0\",\"CCR\",\"R\"] for i in meta_total.SIDE_case],\"SIDE_case\"] = \"RCC\""
   ]
  },
  {
   "cell_type": "code",
   "execution_count": 11,
   "id": "specific-extra",
   "metadata": {},
   "outputs": [],
   "source": [
    "tmp = meta_total.value_counts([\"ID\",\"CENTER\"])\n",
    "tmp = tmp[tmp==1].index.values"
   ]
  },
  {
   "cell_type": "code",
   "execution_count": 12,
   "id": "eastern-modern",
   "metadata": {},
   "outputs": [],
   "source": [
    "meta_total = pd.DataFrame(zip([i[0] for i in tmp], [i[1] for i in tmp]), columns=[\"ID\",\"CENTER\"]).merge(meta_total)"
   ]
  },
  {
   "cell_type": "code",
   "execution_count": 13,
   "id": "incredible-posting",
   "metadata": {},
   "outputs": [],
   "source": [
    "df = df.merge(meta_total)"
   ]
  },
  {
   "cell_type": "markdown",
   "id": "cooperative-module",
   "metadata": {},
   "source": [
    "#### Select participants who have both LR"
   ]
  },
  {
   "cell_type": "code",
   "execution_count": 14,
   "id": "accepting-heritage",
   "metadata": {},
   "outputs": [],
   "source": [
    "# control"
   ]
  },
  {
   "cell_type": "code",
   "execution_count": 15,
   "id": "cordless-learning",
   "metadata": {},
   "outputs": [],
   "source": [
    "tmp = df[df.GROUP==\"control\"].value_counts([\"CENTER\",\"ID\"])\n",
    "df_control1 = tmp[tmp==1].index.values # 한쪽만 있는 경우\n",
    "df_control2 = tmp[tmp!=1].index.values # 1쪽 이상 있는 경우"
   ]
  },
  {
   "cell_type": "code",
   "execution_count": 16,
   "id": "coordinate-segment",
   "metadata": {},
   "outputs": [],
   "source": [
    "df_control1 = pd.DataFrame(zip([i[0] for i in df_control1], [i[1] for i in df_control1]), columns=[\"CENTER\",\"ID\"])\n",
    "df_control2 = pd.DataFrame(zip([i[0] for i in df_control2], [i[1] for i in df_control2]), columns=[\"CENTER\",\"ID\"])"
   ]
  },
  {
   "cell_type": "code",
   "execution_count": 17,
   "id": "favorite-underground",
   "metadata": {},
   "outputs": [],
   "source": [
    "# 1쪽 이상 있는 경우, 1쪽 랜덤 선택\n",
    "df_control2['SIDE'] = [random.choice(['LCC','RCC']) for i in range(len(df_control2))]"
   ]
  },
  {
   "cell_type": "code",
   "execution_count": 18,
   "id": "posted-hotel",
   "metadata": {},
   "outputs": [],
   "source": [
    "df_control = pd.concat([df_control1.merge(df),df_control2.merge(df)])"
   ]
  },
  {
   "cell_type": "code",
   "execution_count": 19,
   "id": "pressed-genre",
   "metadata": {},
   "outputs": [],
   "source": [
    "df_case = df[df.GROUP==\"case\"]\n",
    "df_case = df_case[(df_case.SIDE != df_case.SIDE_case) & (df_case.SIDE_case!=\"BOTH\")]"
   ]
  },
  {
   "cell_type": "code",
   "execution_count": 20,
   "id": "least-vatican",
   "metadata": {},
   "outputs": [],
   "source": [
    "df_density = pd.concat([df_control, df_case]).reset_index(drop=True)"
   ]
  },
  {
   "cell_type": "code",
   "execution_count": 21,
   "id": "vocal-rings",
   "metadata": {},
   "outputs": [
    {
     "data": {
      "text/plain": [
       "8082"
      ]
     },
     "execution_count": 21,
     "metadata": {},
     "output_type": "execute_result"
    }
   ],
   "source": [
    "list_density = df_density.file_image.tolist()\n",
    "len(list_density)"
   ]
  },
  {
   "cell_type": "code",
   "execution_count": 22,
   "id": "motivated-scheme",
   "metadata": {},
   "outputs": [
    {
     "data": {
      "text/plain": [
       "GROUP\n",
       "control    5859\n",
       "case       2223\n",
       "dtype: int64"
      ]
     },
     "execution_count": 22,
     "metadata": {},
     "output_type": "execute_result"
    }
   ],
   "source": [
    "df_density.value_counts(\"GROUP\")"
   ]
  },
  {
   "cell_type": "markdown",
   "id": "imposed-stage",
   "metadata": {},
   "source": [
    "### IMAGE"
   ]
  },
  {
   "cell_type": "code",
   "execution_count": 23,
   "id": "spatial-genetics",
   "metadata": {},
   "outputs": [
    {
     "data": {
      "text/plain": [
       "43532"
      ]
     },
     "execution_count": 23,
     "metadata": {},
     "output_type": "execute_result"
    }
   ],
   "source": [
    "list_images = sorted(glob(\"numpy/image_256x256/*/*\"))\n",
    "len(list_images)"
   ]
  },
  {
   "cell_type": "code",
   "execution_count": 24,
   "id": "facial-scenario",
   "metadata": {},
   "outputs": [],
   "source": [
    "# 위와 동일"
   ]
  },
  {
   "cell_type": "code",
   "execution_count": 25,
   "id": "perceived-honolulu",
   "metadata": {},
   "outputs": [],
   "source": [
    "df = pd.DataFrame(list_images,columns=['file_image'])\n",
    "df['file'] = [re.sub('.npy','.dcm',i.split(\"/\")[3]) for i in df.file_image.tolist()]\n",
    "df['CENTER'] = [re.sub('.npy','.dcm',i.split(\"/\")[2]) for i in df.file_image.tolist()]\n",
    "df[\"ID\"] = [i.split(\"_\")[0] for i in df.file]\n",
    "df[\"SIDE\"] = [i.split(\"_\")[1] for i in df.file]\n",
    "df[\"DATE\"] = [i.split(\"_\")[2] for i in df.file]"
   ]
  },
  {
   "cell_type": "code",
   "execution_count": 26,
   "id": "retired-hygiene",
   "metadata": {},
   "outputs": [],
   "source": [
    "meta_total.loc[[i in ['LCC',\"1\",\"CCL\",\"L\"] for i in meta_total.SIDE_case],\"SIDE_case\"] = \"LCC\"\n",
    "meta_total.loc[[i in ['RCC',\"0\",\"CCR\",\"R\"] for i in meta_total.SIDE_case],\"SIDE_case\"] = \"RCC\""
   ]
  },
  {
   "cell_type": "code",
   "execution_count": 27,
   "id": "upset-address",
   "metadata": {},
   "outputs": [],
   "source": [
    "tmp = meta_total.value_counts([\"ID\",\"CENTER\"])\n",
    "tmp = tmp[tmp==1].index.values"
   ]
  },
  {
   "cell_type": "code",
   "execution_count": 28,
   "id": "selective-habitat",
   "metadata": {},
   "outputs": [],
   "source": [
    "meta_total = pd.DataFrame(zip([i[0] for i in tmp], [i[1] for i in tmp]), columns=[\"ID\",\"CENTER\"]).merge(meta_total)"
   ]
  },
  {
   "cell_type": "code",
   "execution_count": 29,
   "id": "behind-houston",
   "metadata": {},
   "outputs": [],
   "source": [
    "df = df.merge(meta_total)"
   ]
  },
  {
   "cell_type": "code",
   "execution_count": 30,
   "id": "reflected-palace",
   "metadata": {},
   "outputs": [],
   "source": [
    "tmp = df[df.GROUP==\"control\"].value_counts([\"CENTER\",\"ID\"])\n",
    "df_control1 = tmp[tmp==1].index.values\n",
    "df_control2 = tmp[tmp!=1].index.values"
   ]
  },
  {
   "cell_type": "code",
   "execution_count": 31,
   "id": "widespread-donna",
   "metadata": {},
   "outputs": [],
   "source": [
    "df_control1 = pd.DataFrame(zip([i[0] for i in df_control1], [i[1] for i in df_control1]), columns=[\"CENTER\",\"ID\"])\n",
    "df_control2 = pd.DataFrame(zip([i[0] for i in df_control2], [i[1] for i in df_control2]), columns=[\"CENTER\",\"ID\"])"
   ]
  },
  {
   "cell_type": "code",
   "execution_count": 32,
   "id": "adult-albania",
   "metadata": {},
   "outputs": [],
   "source": [
    "df_control2['SIDE'] = [random.choice(['LCC','RCC']) for i in range(len(df_control2))]"
   ]
  },
  {
   "cell_type": "code",
   "execution_count": 33,
   "id": "portable-configuration",
   "metadata": {},
   "outputs": [],
   "source": [
    "df_control = pd.concat([df_control1.merge(df),df_control2.merge(df)])"
   ]
  },
  {
   "cell_type": "code",
   "execution_count": 34,
   "id": "administrative-birth",
   "metadata": {},
   "outputs": [],
   "source": [
    "df_case = df[df.GROUP==\"case\"]"
   ]
  },
  {
   "cell_type": "code",
   "execution_count": 35,
   "id": "suspected-munich",
   "metadata": {},
   "outputs": [],
   "source": [
    "# case이지만 발병 위치 알 수 없는 데이터 1627건 있음"
   ]
  },
  {
   "cell_type": "code",
   "execution_count": 36,
   "id": "advised-retail",
   "metadata": {},
   "outputs": [
    {
     "data": {
      "text/html": [
       "<div>\n",
       "<style scoped>\n",
       "    .dataframe tbody tr th:only-of-type {\n",
       "        vertical-align: middle;\n",
       "    }\n",
       "\n",
       "    .dataframe tbody tr th {\n",
       "        vertical-align: top;\n",
       "    }\n",
       "\n",
       "    .dataframe thead th {\n",
       "        text-align: right;\n",
       "    }\n",
       "</style>\n",
       "<table border=\"1\" class=\"dataframe\">\n",
       "  <thead>\n",
       "    <tr style=\"text-align: right;\">\n",
       "      <th></th>\n",
       "      <th>file_image</th>\n",
       "      <th>file</th>\n",
       "      <th>CENTER</th>\n",
       "      <th>ID</th>\n",
       "      <th>SIDE</th>\n",
       "      <th>DATE</th>\n",
       "      <th>GROUP</th>\n",
       "      <th>AGE</th>\n",
       "      <th>BMI</th>\n",
       "      <th>SIDE_case</th>\n",
       "    </tr>\n",
       "  </thead>\n",
       "  <tbody>\n",
       "    <tr>\n",
       "      <th>6631</th>\n",
       "      <td>numpy/image_256x256/ncc2018/18268225_LCC_20170...</td>\n",
       "      <td>18268225_LCC_20170222.dcm</td>\n",
       "      <td>ncc2018</td>\n",
       "      <td>18268225</td>\n",
       "      <td>LCC</td>\n",
       "      <td>20170222.dcm</td>\n",
       "      <td>case</td>\n",
       "      <td>71.0</td>\n",
       "      <td>NaN</td>\n",
       "      <td>NaN</td>\n",
       "    </tr>\n",
       "    <tr>\n",
       "      <th>6632</th>\n",
       "      <td>numpy/image_256x256/ncc2018/18268225_RCC_20170...</td>\n",
       "      <td>18268225_RCC_20170222.dcm</td>\n",
       "      <td>ncc2018</td>\n",
       "      <td>18268225</td>\n",
       "      <td>RCC</td>\n",
       "      <td>20170222.dcm</td>\n",
       "      <td>case</td>\n",
       "      <td>71.0</td>\n",
       "      <td>NaN</td>\n",
       "      <td>NaN</td>\n",
       "    </tr>\n",
       "    <tr>\n",
       "      <th>6660</th>\n",
       "      <td>numpy/image_256x256/ncc2018/20065760_LCC_20160...</td>\n",
       "      <td>20065760_LCC_20160629.dcm</td>\n",
       "      <td>ncc2018</td>\n",
       "      <td>20065760</td>\n",
       "      <td>LCC</td>\n",
       "      <td>20160629.dcm</td>\n",
       "      <td>case</td>\n",
       "      <td>64.0</td>\n",
       "      <td>NaN</td>\n",
       "      <td>NaN</td>\n",
       "    </tr>\n",
       "    <tr>\n",
       "      <th>6661</th>\n",
       "      <td>numpy/image_256x256/ncc2018/20065760_RCC_20160...</td>\n",
       "      <td>20065760_RCC_20160629.dcm</td>\n",
       "      <td>ncc2018</td>\n",
       "      <td>20065760</td>\n",
       "      <td>RCC</td>\n",
       "      <td>20160629.dcm</td>\n",
       "      <td>case</td>\n",
       "      <td>64.0</td>\n",
       "      <td>NaN</td>\n",
       "      <td>NaN</td>\n",
       "    </tr>\n",
       "    <tr>\n",
       "      <th>6680</th>\n",
       "      <td>numpy/image_256x256/ncc2018/20105978_LCC_20160...</td>\n",
       "      <td>20105978_LCC_20160324.dcm</td>\n",
       "      <td>ncc2018</td>\n",
       "      <td>20105978</td>\n",
       "      <td>LCC</td>\n",
       "      <td>20160324.dcm</td>\n",
       "      <td>case</td>\n",
       "      <td>52.0</td>\n",
       "      <td>23.147255121330193</td>\n",
       "      <td>NaN</td>\n",
       "    </tr>\n",
       "    <tr>\n",
       "      <th>...</th>\n",
       "      <td>...</td>\n",
       "      <td>...</td>\n",
       "      <td>...</td>\n",
       "      <td>...</td>\n",
       "      <td>...</td>\n",
       "      <td>...</td>\n",
       "      <td>...</td>\n",
       "      <td>...</td>\n",
       "      <td>...</td>\n",
       "      <td>...</td>\n",
       "    </tr>\n",
       "    <tr>\n",
       "      <th>32878</th>\n",
       "      <td>numpy/image_256x256/twin/E1006881_LCC_20060913...</td>\n",
       "      <td>E1006881_LCC_20060913.dcm</td>\n",
       "      <td>twin</td>\n",
       "      <td>E1006881</td>\n",
       "      <td>LCC</td>\n",
       "      <td>20060913.dcm</td>\n",
       "      <td>case</td>\n",
       "      <td>63.0</td>\n",
       "      <td>25.6</td>\n",
       "      <td>NaN</td>\n",
       "    </tr>\n",
       "    <tr>\n",
       "      <th>33331</th>\n",
       "      <td>numpy/image_256x256/twin/E1012561_LCC_20070704...</td>\n",
       "      <td>E1012561_LCC_20070704.dcm</td>\n",
       "      <td>twin</td>\n",
       "      <td>E1012561</td>\n",
       "      <td>LCC</td>\n",
       "      <td>20070704.dcm</td>\n",
       "      <td>case</td>\n",
       "      <td>62.0</td>\n",
       "      <td>22.95</td>\n",
       "      <td>NaN</td>\n",
       "    </tr>\n",
       "    <tr>\n",
       "      <th>33332</th>\n",
       "      <td>numpy/image_256x256/twin/E1012561_RCC_20070704...</td>\n",
       "      <td>E1012561_RCC_20070704.dcm</td>\n",
       "      <td>twin</td>\n",
       "      <td>E1012561</td>\n",
       "      <td>RCC</td>\n",
       "      <td>20070704.dcm</td>\n",
       "      <td>case</td>\n",
       "      <td>62.0</td>\n",
       "      <td>22.95</td>\n",
       "      <td>NaN</td>\n",
       "    </tr>\n",
       "    <tr>\n",
       "      <th>33552</th>\n",
       "      <td>numpy/image_256x256/twin/E1014580_LCC_20070918...</td>\n",
       "      <td>E1014580_LCC_20070918.dcm</td>\n",
       "      <td>twin</td>\n",
       "      <td>E1014580</td>\n",
       "      <td>LCC</td>\n",
       "      <td>20070918.dcm</td>\n",
       "      <td>case</td>\n",
       "      <td>56.0</td>\n",
       "      <td>23.91</td>\n",
       "      <td>NaN</td>\n",
       "    </tr>\n",
       "    <tr>\n",
       "      <th>33553</th>\n",
       "      <td>numpy/image_256x256/twin/E1014580_RCC_20070918...</td>\n",
       "      <td>E1014580_RCC_20070918.dcm</td>\n",
       "      <td>twin</td>\n",
       "      <td>E1014580</td>\n",
       "      <td>RCC</td>\n",
       "      <td>20070918.dcm</td>\n",
       "      <td>case</td>\n",
       "      <td>56.0</td>\n",
       "      <td>23.91</td>\n",
       "      <td>NaN</td>\n",
       "    </tr>\n",
       "  </tbody>\n",
       "</table>\n",
       "<p>1627 rows × 10 columns</p>\n",
       "</div>"
      ],
      "text/plain": [
       "                                              file_image  \\\n",
       "6631   numpy/image_256x256/ncc2018/18268225_LCC_20170...   \n",
       "6632   numpy/image_256x256/ncc2018/18268225_RCC_20170...   \n",
       "6660   numpy/image_256x256/ncc2018/20065760_LCC_20160...   \n",
       "6661   numpy/image_256x256/ncc2018/20065760_RCC_20160...   \n",
       "6680   numpy/image_256x256/ncc2018/20105978_LCC_20160...   \n",
       "...                                                  ...   \n",
       "32878  numpy/image_256x256/twin/E1006881_LCC_20060913...   \n",
       "33331  numpy/image_256x256/twin/E1012561_LCC_20070704...   \n",
       "33332  numpy/image_256x256/twin/E1012561_RCC_20070704...   \n",
       "33552  numpy/image_256x256/twin/E1014580_LCC_20070918...   \n",
       "33553  numpy/image_256x256/twin/E1014580_RCC_20070918...   \n",
       "\n",
       "                            file   CENTER        ID SIDE          DATE GROUP  \\\n",
       "6631   18268225_LCC_20170222.dcm  ncc2018  18268225  LCC  20170222.dcm  case   \n",
       "6632   18268225_RCC_20170222.dcm  ncc2018  18268225  RCC  20170222.dcm  case   \n",
       "6660   20065760_LCC_20160629.dcm  ncc2018  20065760  LCC  20160629.dcm  case   \n",
       "6661   20065760_RCC_20160629.dcm  ncc2018  20065760  RCC  20160629.dcm  case   \n",
       "6680   20105978_LCC_20160324.dcm  ncc2018  20105978  LCC  20160324.dcm  case   \n",
       "...                          ...      ...       ...  ...           ...   ...   \n",
       "32878  E1006881_LCC_20060913.dcm     twin  E1006881  LCC  20060913.dcm  case   \n",
       "33331  E1012561_LCC_20070704.dcm     twin  E1012561  LCC  20070704.dcm  case   \n",
       "33332  E1012561_RCC_20070704.dcm     twin  E1012561  RCC  20070704.dcm  case   \n",
       "33552  E1014580_LCC_20070918.dcm     twin  E1014580  LCC  20070918.dcm  case   \n",
       "33553  E1014580_RCC_20070918.dcm     twin  E1014580  RCC  20070918.dcm  case   \n",
       "\n",
       "        AGE                 BMI SIDE_case  \n",
       "6631   71.0                 NaN       NaN  \n",
       "6632   71.0                 NaN       NaN  \n",
       "6660   64.0                 NaN       NaN  \n",
       "6661   64.0                 NaN       NaN  \n",
       "6680   52.0  23.147255121330193       NaN  \n",
       "...     ...                 ...       ...  \n",
       "32878  63.0                25.6       NaN  \n",
       "33331  62.0               22.95       NaN  \n",
       "33332  62.0               22.95       NaN  \n",
       "33552  56.0               23.91       NaN  \n",
       "33553  56.0               23.91       NaN  \n",
       "\n",
       "[1627 rows x 10 columns]"
      ]
     },
     "execution_count": 36,
     "metadata": {},
     "output_type": "execute_result"
    }
   ],
   "source": [
    "df_case[pd.isna(df_case.SIDE_case)] # NO SIDE_CASES"
   ]
  },
  {
   "cell_type": "code",
   "execution_count": 37,
   "id": "temporal-great",
   "metadata": {},
   "outputs": [],
   "source": [
    "df_case = df_case[(df_case.SIDE != df_case.SIDE_case) & (df_case.SIDE_case!=\"BOTH\") & ~pd.isna(df_case.SIDE_case)]"
   ]
  },
  {
   "cell_type": "code",
   "execution_count": 38,
   "id": "weekly-cambodia",
   "metadata": {},
   "outputs": [],
   "source": [
    "df_image = pd.concat([df_control, df_case]).reset_index(drop=True)"
   ]
  },
  {
   "cell_type": "code",
   "execution_count": 39,
   "id": "based-static",
   "metadata": {},
   "outputs": [],
   "source": [
    "df_image = df_image[(df_image.SIDE == \"LCC\") | (df_image.SIDE == \"RCC\")]"
   ]
  },
  {
   "cell_type": "code",
   "execution_count": 40,
   "id": "solar-county",
   "metadata": {},
   "outputs": [
    {
     "data": {
      "text/html": [
       "<div>\n",
       "<style scoped>\n",
       "    .dataframe tbody tr th:only-of-type {\n",
       "        vertical-align: middle;\n",
       "    }\n",
       "\n",
       "    .dataframe tbody tr th {\n",
       "        vertical-align: top;\n",
       "    }\n",
       "\n",
       "    .dataframe thead th {\n",
       "        text-align: right;\n",
       "    }\n",
       "</style>\n",
       "<table border=\"1\" class=\"dataframe\">\n",
       "  <thead>\n",
       "    <tr style=\"text-align: right;\">\n",
       "      <th></th>\n",
       "      <th>CENTER</th>\n",
       "      <th>ID</th>\n",
       "      <th>file_image</th>\n",
       "      <th>file</th>\n",
       "      <th>SIDE</th>\n",
       "      <th>DATE</th>\n",
       "      <th>GROUP</th>\n",
       "      <th>AGE</th>\n",
       "      <th>BMI</th>\n",
       "      <th>SIDE_case</th>\n",
       "    </tr>\n",
       "  </thead>\n",
       "  <tbody>\n",
       "    <tr>\n",
       "      <th>0</th>\n",
       "      <td>asan</td>\n",
       "      <td>33251808</td>\n",
       "      <td>numpy/image_256x256/asan/33251808_LCC_20070920...</td>\n",
       "      <td>33251808_LCC_20070920.dcm</td>\n",
       "      <td>LCC</td>\n",
       "      <td>20070920.dcm</td>\n",
       "      <td>control</td>\n",
       "      <td>43.0</td>\n",
       "      <td>19.593</td>\n",
       "      <td>NaN</td>\n",
       "    </tr>\n",
       "    <tr>\n",
       "      <th>1</th>\n",
       "      <td>samsung</td>\n",
       "      <td>08014619</td>\n",
       "      <td>numpy/image_256x256/samsung/08014619_RCC_20110...</td>\n",
       "      <td>08014619_RCC_20110118.dcm</td>\n",
       "      <td>RCC</td>\n",
       "      <td>20110118.dcm</td>\n",
       "      <td>control</td>\n",
       "      <td>62.0</td>\n",
       "      <td>21.3</td>\n",
       "      <td>NaN</td>\n",
       "    </tr>\n",
       "    <tr>\n",
       "      <th>2</th>\n",
       "      <td>samsung</td>\n",
       "      <td>08187700</td>\n",
       "      <td>numpy/image_256x256/samsung/08187700_LCC_20080...</td>\n",
       "      <td>08187700_LCC_20080117.dcm</td>\n",
       "      <td>LCC</td>\n",
       "      <td>20080117.dcm</td>\n",
       "      <td>control</td>\n",
       "      <td>53.0</td>\n",
       "      <td>27.9</td>\n",
       "      <td>NaN</td>\n",
       "    </tr>\n",
       "    <tr>\n",
       "      <th>3</th>\n",
       "      <td>samsung</td>\n",
       "      <td>15883336</td>\n",
       "      <td>numpy/image_256x256/samsung/15883336_LCC_20070...</td>\n",
       "      <td>15883336_LCC_20070117.dcm</td>\n",
       "      <td>LCC</td>\n",
       "      <td>20070117.dcm</td>\n",
       "      <td>control</td>\n",
       "      <td>57.0</td>\n",
       "      <td>24.6</td>\n",
       "      <td>NaN</td>\n",
       "    </tr>\n",
       "    <tr>\n",
       "      <th>4</th>\n",
       "      <td>samsung</td>\n",
       "      <td>15673108</td>\n",
       "      <td>numpy/image_256x256/samsung/15673108_LCC_20070...</td>\n",
       "      <td>15673108_LCC_20070816.dcm</td>\n",
       "      <td>LCC</td>\n",
       "      <td>20070816.dcm</td>\n",
       "      <td>control</td>\n",
       "      <td>47.0</td>\n",
       "      <td>20.2</td>\n",
       "      <td>NaN</td>\n",
       "    </tr>\n",
       "    <tr>\n",
       "      <th>...</th>\n",
       "      <td>...</td>\n",
       "      <td>...</td>\n",
       "      <td>...</td>\n",
       "      <td>...</td>\n",
       "      <td>...</td>\n",
       "      <td>...</td>\n",
       "      <td>...</td>\n",
       "      <td>...</td>\n",
       "      <td>...</td>\n",
       "      <td>...</td>\n",
       "    </tr>\n",
       "    <tr>\n",
       "      <th>13502</th>\n",
       "      <td>samsung</td>\n",
       "      <td>31153132</td>\n",
       "      <td>numpy/image_256x256/samsung/31153132_RCC_20130...</td>\n",
       "      <td>31153132_RCC_20130806.dcm</td>\n",
       "      <td>RCC</td>\n",
       "      <td>20130806.dcm</td>\n",
       "      <td>case</td>\n",
       "      <td>45.0</td>\n",
       "      <td>27.0</td>\n",
       "      <td>LCC</td>\n",
       "    </tr>\n",
       "    <tr>\n",
       "      <th>13503</th>\n",
       "      <td>samsung</td>\n",
       "      <td>31219355</td>\n",
       "      <td>numpy/image_256x256/samsung/31219355_RCC_20130...</td>\n",
       "      <td>31219355_RCC_20130821.dcm</td>\n",
       "      <td>RCC</td>\n",
       "      <td>20130821.dcm</td>\n",
       "      <td>case</td>\n",
       "      <td>42.0</td>\n",
       "      <td>21.7</td>\n",
       "      <td>LCC</td>\n",
       "    </tr>\n",
       "    <tr>\n",
       "      <th>13504</th>\n",
       "      <td>samsung</td>\n",
       "      <td>31221853</td>\n",
       "      <td>numpy/image_256x256/samsung/31221853_LCC_20130...</td>\n",
       "      <td>31221853_LCC_20130820.dcm</td>\n",
       "      <td>LCC</td>\n",
       "      <td>20130820.dcm</td>\n",
       "      <td>case</td>\n",
       "      <td>45.0</td>\n",
       "      <td>21.0</td>\n",
       "      <td>RCC</td>\n",
       "    </tr>\n",
       "    <tr>\n",
       "      <th>13505</th>\n",
       "      <td>samsung</td>\n",
       "      <td>31239791</td>\n",
       "      <td>numpy/image_256x256/samsung/31239791_LCC_20130...</td>\n",
       "      <td>31239791_LCC_20130822.dcm</td>\n",
       "      <td>LCC</td>\n",
       "      <td>20130822.dcm</td>\n",
       "      <td>case</td>\n",
       "      <td>41.0</td>\n",
       "      <td>19.5</td>\n",
       "      <td>RCC</td>\n",
       "    </tr>\n",
       "    <tr>\n",
       "      <th>13506</th>\n",
       "      <td>samsung</td>\n",
       "      <td>31240742</td>\n",
       "      <td>numpy/image_256x256/samsung/31240742_RCC_20130...</td>\n",
       "      <td>31240742_RCC_20130826.dcm</td>\n",
       "      <td>RCC</td>\n",
       "      <td>20130826.dcm</td>\n",
       "      <td>case</td>\n",
       "      <td>48.0</td>\n",
       "      <td>20.4</td>\n",
       "      <td>LCC</td>\n",
       "    </tr>\n",
       "  </tbody>\n",
       "</table>\n",
       "<p>13497 rows × 10 columns</p>\n",
       "</div>"
      ],
      "text/plain": [
       "        CENTER        ID                                         file_image  \\\n",
       "0         asan  33251808  numpy/image_256x256/asan/33251808_LCC_20070920...   \n",
       "1      samsung  08014619  numpy/image_256x256/samsung/08014619_RCC_20110...   \n",
       "2      samsung  08187700  numpy/image_256x256/samsung/08187700_LCC_20080...   \n",
       "3      samsung  15883336  numpy/image_256x256/samsung/15883336_LCC_20070...   \n",
       "4      samsung  15673108  numpy/image_256x256/samsung/15673108_LCC_20070...   \n",
       "...        ...       ...                                                ...   \n",
       "13502  samsung  31153132  numpy/image_256x256/samsung/31153132_RCC_20130...   \n",
       "13503  samsung  31219355  numpy/image_256x256/samsung/31219355_RCC_20130...   \n",
       "13504  samsung  31221853  numpy/image_256x256/samsung/31221853_LCC_20130...   \n",
       "13505  samsung  31239791  numpy/image_256x256/samsung/31239791_LCC_20130...   \n",
       "13506  samsung  31240742  numpy/image_256x256/samsung/31240742_RCC_20130...   \n",
       "\n",
       "                            file SIDE          DATE    GROUP   AGE     BMI  \\\n",
       "0      33251808_LCC_20070920.dcm  LCC  20070920.dcm  control  43.0  19.593   \n",
       "1      08014619_RCC_20110118.dcm  RCC  20110118.dcm  control  62.0    21.3   \n",
       "2      08187700_LCC_20080117.dcm  LCC  20080117.dcm  control  53.0    27.9   \n",
       "3      15883336_LCC_20070117.dcm  LCC  20070117.dcm  control  57.0    24.6   \n",
       "4      15673108_LCC_20070816.dcm  LCC  20070816.dcm  control  47.0    20.2   \n",
       "...                          ...  ...           ...      ...   ...     ...   \n",
       "13502  31153132_RCC_20130806.dcm  RCC  20130806.dcm     case  45.0    27.0   \n",
       "13503  31219355_RCC_20130821.dcm  RCC  20130821.dcm     case  42.0    21.7   \n",
       "13504  31221853_LCC_20130820.dcm  LCC  20130820.dcm     case  45.0    21.0   \n",
       "13505  31239791_LCC_20130822.dcm  LCC  20130822.dcm     case  41.0    19.5   \n",
       "13506  31240742_RCC_20130826.dcm  RCC  20130826.dcm     case  48.0    20.4   \n",
       "\n",
       "      SIDE_case  \n",
       "0           NaN  \n",
       "1           NaN  \n",
       "2           NaN  \n",
       "3           NaN  \n",
       "4           NaN  \n",
       "...         ...  \n",
       "13502       LCC  \n",
       "13503       LCC  \n",
       "13504       RCC  \n",
       "13505       RCC  \n",
       "13506       LCC  \n",
       "\n",
       "[13497 rows x 10 columns]"
      ]
     },
     "execution_count": 40,
     "metadata": {},
     "output_type": "execute_result"
    }
   ],
   "source": [
    "df_image"
   ]
  },
  {
   "cell_type": "code",
   "execution_count": 41,
   "id": "033d45b2",
   "metadata": {},
   "outputs": [
    {
     "data": {
      "text/plain": [
       "GROUP\n",
       "control    10830\n",
       "case        2667\n",
       "dtype: int64"
      ]
     },
     "execution_count": 41,
     "metadata": {},
     "output_type": "execute_result"
    }
   ],
   "source": [
    "df_image.value_counts(\"GROUP\")"
   ]
  },
  {
   "cell_type": "code",
   "execution_count": 96,
   "id": "440099b9",
   "metadata": {},
   "outputs": [
    {
     "data": {
      "text/plain": [
       "CENTER\n",
       "ncc2020    14962\n",
       "samsung     6797\n",
       "ncc2018     3952\n",
       "asan        3483\n",
       "brmh        2833\n",
       "twin        1796\n",
       "ilsan        295\n",
       "dtype: int64"
      ]
     },
     "execution_count": 96,
     "metadata": {},
     "output_type": "execute_result"
    }
   ],
   "source": [
    "df_image.value_counts(\"CENTER\")"
   ]
  },
  {
   "cell_type": "markdown",
   "id": "hairy-rogers",
   "metadata": {},
   "source": [
    "### SPLIT"
   ]
  },
  {
   "cell_type": "code",
   "execution_count": 42,
   "id": "employed-algeria",
   "metadata": {},
   "outputs": [],
   "source": [
    "random.seed(92)\n",
    "n_density = len(df_density)\n",
    "list_index = list(range(n_density))\n",
    "random.shuffle(list_index)"
   ]
  },
  {
   "cell_type": "code",
   "execution_count": 43,
   "id": "secondary-plenty",
   "metadata": {},
   "outputs": [],
   "source": [
    "p_split = [0.7,0.1,0.1,0.1]\n",
    "p1 = p_split[0]\n",
    "p2 = p_split[0]+p_split[1]\n",
    "p3 = (p_split[0]+p_split[1]+p_split[2])\n",
    "index_train = list_index[:int(n_density*p1)]\n",
    "index_val = list_index[int(n_density*p1):int(n_density*p2)]\n",
    "index_test = list_index[int(n_density*p2):int(n_density*p3)]\n",
    "index_cal = list_index[int(n_density*p3):]"
   ]
  },
  {
   "cell_type": "code",
   "execution_count": 44,
   "id": "important-lender",
   "metadata": {},
   "outputs": [],
   "source": [
    "df_density[\"dataset\"] = \"\"\n",
    "df_density.loc[index_train,\"dataset\"] = \"train\"\n",
    "df_density.loc[index_val,\"dataset\"] = \"val\"\n",
    "df_density.loc[index_test,\"dataset\"] = \"test\"\n",
    "df_density.loc[index_cal,\"dataset\"] = \"cal\""
   ]
  },
  {
   "cell_type": "code",
   "execution_count": 45,
   "id": "direct-genius",
   "metadata": {},
   "outputs": [
    {
     "data": {
      "text/plain": [
       "dataset\n",
       "train    5657\n",
       "cal       809\n",
       "test      808\n",
       "val       808\n",
       "dtype: int64"
      ]
     },
     "execution_count": 45,
     "metadata": {},
     "output_type": "execute_result"
    }
   ],
   "source": [
    "df_density.value_counts(\"dataset\")"
   ]
  },
  {
   "cell_type": "code",
   "execution_count": 52,
   "id": "particular-constitutional",
   "metadata": {},
   "outputs": [],
   "source": [
    "df_image = df_density[['ID','CENTER','dataset']].merge(df_image,how='right')"
   ]
  },
  {
   "cell_type": "code",
   "execution_count": 61,
   "id": "civilian-venture",
   "metadata": {},
   "outputs": [],
   "source": [
    "tmp = df_image.value_counts([\"CENTER\",\"ID\",\"DATE\"]).index.values\n",
    "tmp = pd.DataFrame(zip([i[0] for i in tmp], [i[1] for i in tmp], [i[2] for i in tmp]),columns=[\"CENTER\",\"ID\",\"DATE\"]).value_counts([\"CENTER\",\"ID\"])"
   ]
  },
  {
   "cell_type": "markdown",
   "id": "7f236134",
   "metadata": {},
   "source": [
    "## 1시점만 있는 경우 vs follow-up 있는 경우\n"
   ]
  },
  {
   "cell_type": "code",
   "execution_count": 62,
   "id": "318bce52",
   "metadata": {},
   "outputs": [
    {
     "data": {
      "text/plain": [
       "11665"
      ]
     },
     "execution_count": 62,
     "metadata": {},
     "output_type": "execute_result"
    }
   ],
   "source": [
    "len(tmp)"
   ]
  },
  {
   "cell_type": "code",
   "execution_count": 63,
   "id": "numeric-collective",
   "metadata": {},
   "outputs": [],
   "source": [
    "# 1시점만 있는 경우 vs follow-up 있는 경우\n",
    "df_image_1 = tmp[tmp==1].index.values.tolist() # select only 1 point image (no follow-ups)\n",
    "df_image_multi = tmp[tmp!=1].index.values.tolist() # select follow-ups"
   ]
  },
  {
   "cell_type": "code",
   "execution_count": 64,
   "id": "6880c644",
   "metadata": {},
   "outputs": [
    {
     "name": "stdout",
     "output_type": "stream",
     "text": [
      "10684\n",
      "981\n"
     ]
    }
   ],
   "source": [
    "print(len(df_image_1))\n",
    "print(len(df_image_multi))"
   ]
  },
  {
   "cell_type": "code",
   "execution_count": 65,
   "id": "sunrise-lunch",
   "metadata": {},
   "outputs": [],
   "source": [
    "df_image_1 = pd.DataFrame(zip([i[0] for i in df_image_1], [i[1] for i in df_image_1]),columns=['CENTER','ID'])\n",
    "df_image_multi = pd.DataFrame(zip([i[0] for i in df_image_multi], [i[1] for i in df_image_multi]),columns=['CENTER','ID'])\n",
    "df_image_multi['follow-up'] = 'follow-up'"
   ]
  },
  {
   "cell_type": "code",
   "execution_count": 66,
   "id": "substantial-thermal",
   "metadata": {},
   "outputs": [],
   "source": [
    "df_image = pd.concat([df_image_1,df_image_multi]).merge(df_image)\n",
    "df_image.loc[df_image[\"follow-up\"]==\"follow-up\",\"dataset\"] = \"follow-up\""
   ]
  },
  {
   "cell_type": "code",
   "execution_count": 67,
   "id": "active-niagara",
   "metadata": {},
   "outputs": [],
   "source": [
    "del df_image['follow-up']"
   ]
  },
  {
   "cell_type": "code",
   "execution_count": 68,
   "id": "534a7de9",
   "metadata": {},
   "outputs": [
    {
     "data": {
      "text/html": [
       "<div>\n",
       "<style scoped>\n",
       "    .dataframe tbody tr th:only-of-type {\n",
       "        vertical-align: middle;\n",
       "    }\n",
       "\n",
       "    .dataframe tbody tr th {\n",
       "        vertical-align: top;\n",
       "    }\n",
       "\n",
       "    .dataframe thead th {\n",
       "        text-align: right;\n",
       "    }\n",
       "</style>\n",
       "<table border=\"1\" class=\"dataframe\">\n",
       "  <thead>\n",
       "    <tr style=\"text-align: right;\">\n",
       "      <th></th>\n",
       "      <th>CENTER</th>\n",
       "      <th>ID</th>\n",
       "      <th>dataset</th>\n",
       "      <th>file_image</th>\n",
       "      <th>file</th>\n",
       "      <th>SIDE</th>\n",
       "      <th>DATE</th>\n",
       "      <th>GROUP</th>\n",
       "      <th>AGE</th>\n",
       "      <th>BMI</th>\n",
       "      <th>SIDE_case</th>\n",
       "    </tr>\n",
       "  </thead>\n",
       "  <tbody>\n",
       "    <tr>\n",
       "      <th>0</th>\n",
       "      <td>ncc2020</td>\n",
       "      <td>24356</td>\n",
       "      <td>cal</td>\n",
       "      <td>numpy/image_256x256/ncc2020/24356_RCC_19000101...</td>\n",
       "      <td>24356_RCC_19000101.dcm</td>\n",
       "      <td>RCC</td>\n",
       "      <td>19000101.dcm</td>\n",
       "      <td>control</td>\n",
       "      <td>44.0</td>\n",
       "      <td>NaN</td>\n",
       "      <td>NaN</td>\n",
       "    </tr>\n",
       "    <tr>\n",
       "      <th>1</th>\n",
       "      <td>ncc2020</td>\n",
       "      <td>24234</td>\n",
       "      <td>train</td>\n",
       "      <td>numpy/image_256x256/ncc2020/24234_LCC_19000101...</td>\n",
       "      <td>24234_LCC_19000101.dcm</td>\n",
       "      <td>LCC</td>\n",
       "      <td>19000101.dcm</td>\n",
       "      <td>control</td>\n",
       "      <td>62.0</td>\n",
       "      <td>NaN</td>\n",
       "      <td>NaN</td>\n",
       "    </tr>\n",
       "    <tr>\n",
       "      <th>2</th>\n",
       "      <td>ncc2020</td>\n",
       "      <td>24243</td>\n",
       "      <td>train</td>\n",
       "      <td>numpy/image_256x256/ncc2020/24243_RCC_19000101...</td>\n",
       "      <td>24243_RCC_19000101.dcm</td>\n",
       "      <td>RCC</td>\n",
       "      <td>19000101.dcm</td>\n",
       "      <td>control</td>\n",
       "      <td>52.0</td>\n",
       "      <td>NaN</td>\n",
       "      <td>NaN</td>\n",
       "    </tr>\n",
       "    <tr>\n",
       "      <th>3</th>\n",
       "      <td>ncc2020</td>\n",
       "      <td>24205</td>\n",
       "      <td>train</td>\n",
       "      <td>numpy/image_256x256/ncc2020/24205_LCC_19000101...</td>\n",
       "      <td>24205_LCC_19000101.dcm</td>\n",
       "      <td>LCC</td>\n",
       "      <td>19000101.dcm</td>\n",
       "      <td>control</td>\n",
       "      <td>58.0</td>\n",
       "      <td>NaN</td>\n",
       "      <td>NaN</td>\n",
       "    </tr>\n",
       "    <tr>\n",
       "      <th>4</th>\n",
       "      <td>ncc2020</td>\n",
       "      <td>24204</td>\n",
       "      <td>train</td>\n",
       "      <td>numpy/image_256x256/ncc2020/24204_RCC_19000101...</td>\n",
       "      <td>24204_RCC_19000101.dcm</td>\n",
       "      <td>RCC</td>\n",
       "      <td>19000101.dcm</td>\n",
       "      <td>control</td>\n",
       "      <td>46.0</td>\n",
       "      <td>NaN</td>\n",
       "      <td>NaN</td>\n",
       "    </tr>\n",
       "    <tr>\n",
       "      <th>...</th>\n",
       "      <td>...</td>\n",
       "      <td>...</td>\n",
       "      <td>...</td>\n",
       "      <td>...</td>\n",
       "      <td>...</td>\n",
       "      <td>...</td>\n",
       "      <td>...</td>\n",
       "      <td>...</td>\n",
       "      <td>...</td>\n",
       "      <td>...</td>\n",
       "      <td>...</td>\n",
       "    </tr>\n",
       "    <tr>\n",
       "      <th>13492</th>\n",
       "      <td>twin</td>\n",
       "      <td>E1006711</td>\n",
       "      <td>follow-up</td>\n",
       "      <td>numpy/image_256x256/twin/E1006711_LCC_20120831...</td>\n",
       "      <td>E1006711_LCC_20120831.dcm</td>\n",
       "      <td>LCC</td>\n",
       "      <td>20120831.dcm</td>\n",
       "      <td>control</td>\n",
       "      <td>43.0</td>\n",
       "      <td>25.7</td>\n",
       "      <td>NaN</td>\n",
       "    </tr>\n",
       "    <tr>\n",
       "      <th>13493</th>\n",
       "      <td>twin</td>\n",
       "      <td>E1006720</td>\n",
       "      <td>follow-up</td>\n",
       "      <td>numpy/image_256x256/twin/E1006720_RCC_20060908...</td>\n",
       "      <td>E1006720_RCC_20060908.dcm</td>\n",
       "      <td>RCC</td>\n",
       "      <td>20060908.dcm</td>\n",
       "      <td>control</td>\n",
       "      <td>38.0</td>\n",
       "      <td>25.42</td>\n",
       "      <td>NaN</td>\n",
       "    </tr>\n",
       "    <tr>\n",
       "      <th>13494</th>\n",
       "      <td>twin</td>\n",
       "      <td>E1006720</td>\n",
       "      <td>follow-up</td>\n",
       "      <td>numpy/image_256x256/twin/E1006720_RCC_20120831...</td>\n",
       "      <td>E1006720_RCC_20120831.dcm</td>\n",
       "      <td>RCC</td>\n",
       "      <td>20120831.dcm</td>\n",
       "      <td>control</td>\n",
       "      <td>38.0</td>\n",
       "      <td>25.42</td>\n",
       "      <td>NaN</td>\n",
       "    </tr>\n",
       "    <tr>\n",
       "      <th>13495</th>\n",
       "      <td>twin</td>\n",
       "      <td>E1006830</td>\n",
       "      <td>follow-up</td>\n",
       "      <td>numpy/image_256x256/twin/E1006830_RCC_20060912...</td>\n",
       "      <td>E1006830_RCC_20060912.dcm</td>\n",
       "      <td>RCC</td>\n",
       "      <td>20060912.dcm</td>\n",
       "      <td>control</td>\n",
       "      <td>46.0</td>\n",
       "      <td>21.68</td>\n",
       "      <td>NaN</td>\n",
       "    </tr>\n",
       "    <tr>\n",
       "      <th>13496</th>\n",
       "      <td>twin</td>\n",
       "      <td>E1006830</td>\n",
       "      <td>follow-up</td>\n",
       "      <td>numpy/image_256x256/twin/E1006830_RCC_20120806...</td>\n",
       "      <td>E1006830_RCC_20120806.dcm</td>\n",
       "      <td>RCC</td>\n",
       "      <td>20120806.dcm</td>\n",
       "      <td>control</td>\n",
       "      <td>46.0</td>\n",
       "      <td>21.68</td>\n",
       "      <td>NaN</td>\n",
       "    </tr>\n",
       "  </tbody>\n",
       "</table>\n",
       "<p>13497 rows × 11 columns</p>\n",
       "</div>"
      ],
      "text/plain": [
       "        CENTER        ID    dataset  \\\n",
       "0      ncc2020     24356        cal   \n",
       "1      ncc2020     24234      train   \n",
       "2      ncc2020     24243      train   \n",
       "3      ncc2020     24205      train   \n",
       "4      ncc2020     24204      train   \n",
       "...        ...       ...        ...   \n",
       "13492     twin  E1006711  follow-up   \n",
       "13493     twin  E1006720  follow-up   \n",
       "13494     twin  E1006720  follow-up   \n",
       "13495     twin  E1006830  follow-up   \n",
       "13496     twin  E1006830  follow-up   \n",
       "\n",
       "                                              file_image  \\\n",
       "0      numpy/image_256x256/ncc2020/24356_RCC_19000101...   \n",
       "1      numpy/image_256x256/ncc2020/24234_LCC_19000101...   \n",
       "2      numpy/image_256x256/ncc2020/24243_RCC_19000101...   \n",
       "3      numpy/image_256x256/ncc2020/24205_LCC_19000101...   \n",
       "4      numpy/image_256x256/ncc2020/24204_RCC_19000101...   \n",
       "...                                                  ...   \n",
       "13492  numpy/image_256x256/twin/E1006711_LCC_20120831...   \n",
       "13493  numpy/image_256x256/twin/E1006720_RCC_20060908...   \n",
       "13494  numpy/image_256x256/twin/E1006720_RCC_20120831...   \n",
       "13495  numpy/image_256x256/twin/E1006830_RCC_20060912...   \n",
       "13496  numpy/image_256x256/twin/E1006830_RCC_20120806...   \n",
       "\n",
       "                            file SIDE          DATE    GROUP   AGE    BMI  \\\n",
       "0         24356_RCC_19000101.dcm  RCC  19000101.dcm  control  44.0    NaN   \n",
       "1         24234_LCC_19000101.dcm  LCC  19000101.dcm  control  62.0    NaN   \n",
       "2         24243_RCC_19000101.dcm  RCC  19000101.dcm  control  52.0    NaN   \n",
       "3         24205_LCC_19000101.dcm  LCC  19000101.dcm  control  58.0    NaN   \n",
       "4         24204_RCC_19000101.dcm  RCC  19000101.dcm  control  46.0    NaN   \n",
       "...                          ...  ...           ...      ...   ...    ...   \n",
       "13492  E1006711_LCC_20120831.dcm  LCC  20120831.dcm  control  43.0   25.7   \n",
       "13493  E1006720_RCC_20060908.dcm  RCC  20060908.dcm  control  38.0  25.42   \n",
       "13494  E1006720_RCC_20120831.dcm  RCC  20120831.dcm  control  38.0  25.42   \n",
       "13495  E1006830_RCC_20060912.dcm  RCC  20060912.dcm  control  46.0  21.68   \n",
       "13496  E1006830_RCC_20120806.dcm  RCC  20120806.dcm  control  46.0  21.68   \n",
       "\n",
       "      SIDE_case  \n",
       "0           NaN  \n",
       "1           NaN  \n",
       "2           NaN  \n",
       "3           NaN  \n",
       "4           NaN  \n",
       "...         ...  \n",
       "13492       NaN  \n",
       "13493       NaN  \n",
       "13494       NaN  \n",
       "13495       NaN  \n",
       "13496       NaN  \n",
       "\n",
       "[13497 rows x 11 columns]"
      ]
     },
     "execution_count": 68,
     "metadata": {},
     "output_type": "execute_result"
    }
   ],
   "source": [
    "df_image"
   ]
  },
  {
   "cell_type": "code",
   "execution_count": 69,
   "id": "spare-combination",
   "metadata": {},
   "outputs": [],
   "source": [
    "df_image1 = df_image[~pd.isna(df_image.dataset)]\n",
    "df_image2 = df_image[pd.isna(df_image.dataset)].reset_index(drop=True)"
   ]
  },
  {
   "cell_type": "code",
   "execution_count": 70,
   "id": "522db4a5",
   "metadata": {},
   "outputs": [
    {
     "data": {
      "text/html": [
       "<div>\n",
       "<style scoped>\n",
       "    .dataframe tbody tr th:only-of-type {\n",
       "        vertical-align: middle;\n",
       "    }\n",
       "\n",
       "    .dataframe tbody tr th {\n",
       "        vertical-align: top;\n",
       "    }\n",
       "\n",
       "    .dataframe thead th {\n",
       "        text-align: right;\n",
       "    }\n",
       "</style>\n",
       "<table border=\"1\" class=\"dataframe\">\n",
       "  <thead>\n",
       "    <tr style=\"text-align: right;\">\n",
       "      <th></th>\n",
       "      <th>CENTER</th>\n",
       "      <th>ID</th>\n",
       "      <th>dataset</th>\n",
       "      <th>file_image</th>\n",
       "      <th>file</th>\n",
       "      <th>SIDE</th>\n",
       "      <th>DATE</th>\n",
       "      <th>GROUP</th>\n",
       "      <th>AGE</th>\n",
       "      <th>BMI</th>\n",
       "      <th>SIDE_case</th>\n",
       "    </tr>\n",
       "  </thead>\n",
       "  <tbody>\n",
       "    <tr>\n",
       "      <th>0</th>\n",
       "      <td>ncc2020</td>\n",
       "      <td>24356</td>\n",
       "      <td>cal</td>\n",
       "      <td>numpy/image_256x256/ncc2020/24356_RCC_19000101...</td>\n",
       "      <td>24356_RCC_19000101.dcm</td>\n",
       "      <td>RCC</td>\n",
       "      <td>19000101.dcm</td>\n",
       "      <td>control</td>\n",
       "      <td>44.0</td>\n",
       "      <td>NaN</td>\n",
       "      <td>NaN</td>\n",
       "    </tr>\n",
       "    <tr>\n",
       "      <th>1</th>\n",
       "      <td>ncc2020</td>\n",
       "      <td>24234</td>\n",
       "      <td>train</td>\n",
       "      <td>numpy/image_256x256/ncc2020/24234_LCC_19000101...</td>\n",
       "      <td>24234_LCC_19000101.dcm</td>\n",
       "      <td>LCC</td>\n",
       "      <td>19000101.dcm</td>\n",
       "      <td>control</td>\n",
       "      <td>62.0</td>\n",
       "      <td>NaN</td>\n",
       "      <td>NaN</td>\n",
       "    </tr>\n",
       "    <tr>\n",
       "      <th>2</th>\n",
       "      <td>ncc2020</td>\n",
       "      <td>24243</td>\n",
       "      <td>train</td>\n",
       "      <td>numpy/image_256x256/ncc2020/24243_RCC_19000101...</td>\n",
       "      <td>24243_RCC_19000101.dcm</td>\n",
       "      <td>RCC</td>\n",
       "      <td>19000101.dcm</td>\n",
       "      <td>control</td>\n",
       "      <td>52.0</td>\n",
       "      <td>NaN</td>\n",
       "      <td>NaN</td>\n",
       "    </tr>\n",
       "    <tr>\n",
       "      <th>3</th>\n",
       "      <td>ncc2020</td>\n",
       "      <td>24205</td>\n",
       "      <td>train</td>\n",
       "      <td>numpy/image_256x256/ncc2020/24205_LCC_19000101...</td>\n",
       "      <td>24205_LCC_19000101.dcm</td>\n",
       "      <td>LCC</td>\n",
       "      <td>19000101.dcm</td>\n",
       "      <td>control</td>\n",
       "      <td>58.0</td>\n",
       "      <td>NaN</td>\n",
       "      <td>NaN</td>\n",
       "    </tr>\n",
       "    <tr>\n",
       "      <th>4</th>\n",
       "      <td>ncc2020</td>\n",
       "      <td>24204</td>\n",
       "      <td>train</td>\n",
       "      <td>numpy/image_256x256/ncc2020/24204_RCC_19000101...</td>\n",
       "      <td>24204_RCC_19000101.dcm</td>\n",
       "      <td>RCC</td>\n",
       "      <td>19000101.dcm</td>\n",
       "      <td>control</td>\n",
       "      <td>46.0</td>\n",
       "      <td>NaN</td>\n",
       "      <td>NaN</td>\n",
       "    </tr>\n",
       "    <tr>\n",
       "      <th>...</th>\n",
       "      <td>...</td>\n",
       "      <td>...</td>\n",
       "      <td>...</td>\n",
       "      <td>...</td>\n",
       "      <td>...</td>\n",
       "      <td>...</td>\n",
       "      <td>...</td>\n",
       "      <td>...</td>\n",
       "      <td>...</td>\n",
       "      <td>...</td>\n",
       "      <td>...</td>\n",
       "    </tr>\n",
       "    <tr>\n",
       "      <th>13492</th>\n",
       "      <td>twin</td>\n",
       "      <td>E1006711</td>\n",
       "      <td>follow-up</td>\n",
       "      <td>numpy/image_256x256/twin/E1006711_LCC_20120831...</td>\n",
       "      <td>E1006711_LCC_20120831.dcm</td>\n",
       "      <td>LCC</td>\n",
       "      <td>20120831.dcm</td>\n",
       "      <td>control</td>\n",
       "      <td>43.0</td>\n",
       "      <td>25.7</td>\n",
       "      <td>NaN</td>\n",
       "    </tr>\n",
       "    <tr>\n",
       "      <th>13493</th>\n",
       "      <td>twin</td>\n",
       "      <td>E1006720</td>\n",
       "      <td>follow-up</td>\n",
       "      <td>numpy/image_256x256/twin/E1006720_RCC_20060908...</td>\n",
       "      <td>E1006720_RCC_20060908.dcm</td>\n",
       "      <td>RCC</td>\n",
       "      <td>20060908.dcm</td>\n",
       "      <td>control</td>\n",
       "      <td>38.0</td>\n",
       "      <td>25.42</td>\n",
       "      <td>NaN</td>\n",
       "    </tr>\n",
       "    <tr>\n",
       "      <th>13494</th>\n",
       "      <td>twin</td>\n",
       "      <td>E1006720</td>\n",
       "      <td>follow-up</td>\n",
       "      <td>numpy/image_256x256/twin/E1006720_RCC_20120831...</td>\n",
       "      <td>E1006720_RCC_20120831.dcm</td>\n",
       "      <td>RCC</td>\n",
       "      <td>20120831.dcm</td>\n",
       "      <td>control</td>\n",
       "      <td>38.0</td>\n",
       "      <td>25.42</td>\n",
       "      <td>NaN</td>\n",
       "    </tr>\n",
       "    <tr>\n",
       "      <th>13495</th>\n",
       "      <td>twin</td>\n",
       "      <td>E1006830</td>\n",
       "      <td>follow-up</td>\n",
       "      <td>numpy/image_256x256/twin/E1006830_RCC_20060912...</td>\n",
       "      <td>E1006830_RCC_20060912.dcm</td>\n",
       "      <td>RCC</td>\n",
       "      <td>20060912.dcm</td>\n",
       "      <td>control</td>\n",
       "      <td>46.0</td>\n",
       "      <td>21.68</td>\n",
       "      <td>NaN</td>\n",
       "    </tr>\n",
       "    <tr>\n",
       "      <th>13496</th>\n",
       "      <td>twin</td>\n",
       "      <td>E1006830</td>\n",
       "      <td>follow-up</td>\n",
       "      <td>numpy/image_256x256/twin/E1006830_RCC_20120806...</td>\n",
       "      <td>E1006830_RCC_20120806.dcm</td>\n",
       "      <td>RCC</td>\n",
       "      <td>20120806.dcm</td>\n",
       "      <td>control</td>\n",
       "      <td>46.0</td>\n",
       "      <td>21.68</td>\n",
       "      <td>NaN</td>\n",
       "    </tr>\n",
       "  </tbody>\n",
       "</table>\n",
       "<p>10895 rows × 11 columns</p>\n",
       "</div>"
      ],
      "text/plain": [
       "        CENTER        ID    dataset  \\\n",
       "0      ncc2020     24356        cal   \n",
       "1      ncc2020     24234      train   \n",
       "2      ncc2020     24243      train   \n",
       "3      ncc2020     24205      train   \n",
       "4      ncc2020     24204      train   \n",
       "...        ...       ...        ...   \n",
       "13492     twin  E1006711  follow-up   \n",
       "13493     twin  E1006720  follow-up   \n",
       "13494     twin  E1006720  follow-up   \n",
       "13495     twin  E1006830  follow-up   \n",
       "13496     twin  E1006830  follow-up   \n",
       "\n",
       "                                              file_image  \\\n",
       "0      numpy/image_256x256/ncc2020/24356_RCC_19000101...   \n",
       "1      numpy/image_256x256/ncc2020/24234_LCC_19000101...   \n",
       "2      numpy/image_256x256/ncc2020/24243_RCC_19000101...   \n",
       "3      numpy/image_256x256/ncc2020/24205_LCC_19000101...   \n",
       "4      numpy/image_256x256/ncc2020/24204_RCC_19000101...   \n",
       "...                                                  ...   \n",
       "13492  numpy/image_256x256/twin/E1006711_LCC_20120831...   \n",
       "13493  numpy/image_256x256/twin/E1006720_RCC_20060908...   \n",
       "13494  numpy/image_256x256/twin/E1006720_RCC_20120831...   \n",
       "13495  numpy/image_256x256/twin/E1006830_RCC_20060912...   \n",
       "13496  numpy/image_256x256/twin/E1006830_RCC_20120806...   \n",
       "\n",
       "                            file SIDE          DATE    GROUP   AGE    BMI  \\\n",
       "0         24356_RCC_19000101.dcm  RCC  19000101.dcm  control  44.0    NaN   \n",
       "1         24234_LCC_19000101.dcm  LCC  19000101.dcm  control  62.0    NaN   \n",
       "2         24243_RCC_19000101.dcm  RCC  19000101.dcm  control  52.0    NaN   \n",
       "3         24205_LCC_19000101.dcm  LCC  19000101.dcm  control  58.0    NaN   \n",
       "4         24204_RCC_19000101.dcm  RCC  19000101.dcm  control  46.0    NaN   \n",
       "...                          ...  ...           ...      ...   ...    ...   \n",
       "13492  E1006711_LCC_20120831.dcm  LCC  20120831.dcm  control  43.0   25.7   \n",
       "13493  E1006720_RCC_20060908.dcm  RCC  20060908.dcm  control  38.0  25.42   \n",
       "13494  E1006720_RCC_20120831.dcm  RCC  20120831.dcm  control  38.0  25.42   \n",
       "13495  E1006830_RCC_20060912.dcm  RCC  20060912.dcm  control  46.0  21.68   \n",
       "13496  E1006830_RCC_20120806.dcm  RCC  20120806.dcm  control  46.0  21.68   \n",
       "\n",
       "      SIDE_case  \n",
       "0           NaN  \n",
       "1           NaN  \n",
       "2           NaN  \n",
       "3           NaN  \n",
       "4           NaN  \n",
       "...         ...  \n",
       "13492       NaN  \n",
       "13493       NaN  \n",
       "13494       NaN  \n",
       "13495       NaN  \n",
       "13496       NaN  \n",
       "\n",
       "[10895 rows x 11 columns]"
      ]
     },
     "execution_count": 70,
     "metadata": {},
     "output_type": "execute_result"
    }
   ],
   "source": [
    "df_image1"
   ]
  },
  {
   "cell_type": "code",
   "execution_count": null,
   "id": "thirty-basin",
   "metadata": {},
   "outputs": [],
   "source": []
  },
  {
   "cell_type": "code",
   "execution_count": 71,
   "id": "hungry-construction",
   "metadata": {},
   "outputs": [],
   "source": [
    "#random.seed(92)\n",
    "n_density = len(df_image2)\n",
    "list_index = list(range(n_density))\n",
    "random.shuffle(list_index)"
   ]
  },
  {
   "cell_type": "code",
   "execution_count": 72,
   "id": "governing-quarter",
   "metadata": {},
   "outputs": [],
   "source": [
    "p_split = [0.7,0.1,0.1,0.1]\n",
    "p1 = p_split[0]\n",
    "p2 = p_split[0]+p_split[1]\n",
    "p3 = (p_split[0]+p_split[1]+p_split[2])\n",
    "index_train = list_index[:int(n_density*p1)]\n",
    "index_val = list_index[int(n_density*p1):int(n_density*p2)]\n",
    "index_test = list_index[int(n_density*p2):int(n_density*p3)]\n",
    "index_cal = list_index[int(n_density*p3):]"
   ]
  },
  {
   "cell_type": "code",
   "execution_count": 73,
   "id": "utility-texture",
   "metadata": {},
   "outputs": [],
   "source": [
    "df_image2[\"dataset\"] = \"\"\n",
    "df_image2.loc[index_train,\"dataset\"] = \"train\"\n",
    "df_image2.loc[index_val,\"dataset\"] = \"val\"\n",
    "df_image2.loc[index_test,\"dataset\"] = \"test\"\n",
    "df_image2.loc[index_cal,\"dataset\"] = \"cal\""
   ]
  },
  {
   "cell_type": "code",
   "execution_count": 74,
   "id": "earned-satin",
   "metadata": {},
   "outputs": [
    {
     "data": {
      "text/plain": [
       "dataset\n",
       "train    1821\n",
       "cal       261\n",
       "test      260\n",
       "val       260\n",
       "dtype: int64"
      ]
     },
     "execution_count": 74,
     "metadata": {},
     "output_type": "execute_result"
    }
   ],
   "source": [
    "df_image2.value_counts(\"dataset\")"
   ]
  },
  {
   "cell_type": "code",
   "execution_count": 75,
   "id": "owned-joining",
   "metadata": {},
   "outputs": [],
   "source": [
    "df_image = pd.concat([df_image1,df_image2])\n",
    "df_image = df_image[['CENTER','ID','dataset','file']].drop_duplicates().merge(df,how='right')"
   ]
  },
  {
   "cell_type": "code",
   "execution_count": 76,
   "id": "finite-jamaica",
   "metadata": {},
   "outputs": [],
   "source": [
    "tmp = df_image[~pd.isna(df_image.dataset)][['CENTER','ID','dataset']].drop_duplicates()\n",
    "tmp['ID_tmp'] = tmp.CENTER + tmp.ID"
   ]
  },
  {
   "cell_type": "code",
   "execution_count": 77,
   "id": "naughty-turkey",
   "metadata": {},
   "outputs": [
    {
     "data": {
      "text/plain": [
       "dataset\n",
       "train        7478\n",
       "cal          1070\n",
       "test         1068\n",
       "val          1068\n",
       "follow-up     981\n",
       "dtype: int64"
      ]
     },
     "execution_count": 77,
     "metadata": {},
     "output_type": "execute_result"
    }
   ],
   "source": [
    "tmp.value_counts(\"dataset\")"
   ]
  },
  {
   "cell_type": "code",
   "execution_count": 78,
   "id": "biblical-smoke",
   "metadata": {},
   "outputs": [],
   "source": [
    "df_image_use = df_image[~pd.isna(df_image.dataset)].copy()\n",
    "df_image_other = df_image[pd.isna(df_image.dataset)].copy()\n",
    "df_image_other.loc[:,'ID_tmp'] = df_image_other.CENTER + df_image_other.ID\n",
    "del df_image_other['dataset']"
   ]
  },
  {
   "cell_type": "code",
   "execution_count": 79,
   "id": "whole-point",
   "metadata": {},
   "outputs": [],
   "source": [
    "df_image_other = df_image_other.merge(tmp,how='left')\n",
    "df_image_other.loc[pd.isna(df_image_other.dataset),\"dataset\"] = \"NONE\"\n",
    "del df_image_other['ID_tmp']"
   ]
  },
  {
   "cell_type": "code",
   "execution_count": 80,
   "id": "approximate-central",
   "metadata": {},
   "outputs": [],
   "source": [
    "df_image_use['dataset_image'] = \"yes\"\n",
    "df_image_other['dataset_image'] = \"no\"\n",
    "df_image = pd.concat([df_image_use,df_image_other])"
   ]
  },
  {
   "cell_type": "code",
   "execution_count": 81,
   "id": "adequate-berlin",
   "metadata": {},
   "outputs": [
    {
     "data": {
      "text/plain": [
       "dataset_image\n",
       "no     20621\n",
       "yes    13497\n",
       "dtype: int64"
      ]
     },
     "execution_count": 81,
     "metadata": {},
     "output_type": "execute_result"
    }
   ],
   "source": [
    "df_image.value_counts(\"dataset_image\")"
   ]
  },
  {
   "cell_type": "code",
   "execution_count": 82,
   "id": "classified-liquid",
   "metadata": {},
   "outputs": [],
   "source": [
    "df_image['dataset_density'] = \"no\"\n",
    "tmp = df_density.file.tolist()\n",
    "df_image.loc[[i in tmp for i in df_image.file],\"dataset_density\"] = \"yes\""
   ]
  },
  {
   "cell_type": "code",
   "execution_count": 83,
   "id": "stainless-hearts",
   "metadata": {},
   "outputs": [],
   "source": [
    "df_image = df_image[['dataset','dataset_density','dataset_image','file_image','file','CENTER','ID','DATE','SIDE','SIDE_case','GROUP','AGE','BMI']]"
   ]
  },
  {
   "cell_type": "code",
   "execution_count": 84,
   "id": "printable-isaac",
   "metadata": {},
   "outputs": [
    {
     "data": {
      "text/html": [
       "<div>\n",
       "<style scoped>\n",
       "    .dataframe tbody tr th:only-of-type {\n",
       "        vertical-align: middle;\n",
       "    }\n",
       "\n",
       "    .dataframe tbody tr th {\n",
       "        vertical-align: top;\n",
       "    }\n",
       "\n",
       "    .dataframe thead th {\n",
       "        text-align: right;\n",
       "    }\n",
       "</style>\n",
       "<table border=\"1\" class=\"dataframe\">\n",
       "  <thead>\n",
       "    <tr style=\"text-align: right;\">\n",
       "      <th></th>\n",
       "      <th>dataset</th>\n",
       "      <th>dataset_density</th>\n",
       "      <th>dataset_image</th>\n",
       "      <th>file_image</th>\n",
       "      <th>file</th>\n",
       "      <th>CENTER</th>\n",
       "      <th>ID</th>\n",
       "      <th>DATE</th>\n",
       "      <th>SIDE</th>\n",
       "      <th>SIDE_case</th>\n",
       "      <th>GROUP</th>\n",
       "      <th>AGE</th>\n",
       "      <th>BMI</th>\n",
       "    </tr>\n",
       "  </thead>\n",
       "  <tbody>\n",
       "    <tr>\n",
       "      <th>0</th>\n",
       "      <td>train</td>\n",
       "      <td>no</td>\n",
       "      <td>yes</td>\n",
       "      <td>numpy/image_256x256/asan/10512416_LCC_20070829...</td>\n",
       "      <td>10512416_LCC_20070829.dcm</td>\n",
       "      <td>asan</td>\n",
       "      <td>10512416</td>\n",
       "      <td>20070829.dcm</td>\n",
       "      <td>LCC</td>\n",
       "      <td>NaN</td>\n",
       "      <td>control</td>\n",
       "      <td>44.0</td>\n",
       "      <td>20.82</td>\n",
       "    </tr>\n",
       "    <tr>\n",
       "      <th>2</th>\n",
       "      <td>val</td>\n",
       "      <td>yes</td>\n",
       "      <td>yes</td>\n",
       "      <td>numpy/image_256x256/asan/10516254_LCC_20080709...</td>\n",
       "      <td>10516254_LCC_20080709.dcm</td>\n",
       "      <td>asan</td>\n",
       "      <td>10516254</td>\n",
       "      <td>20080709.dcm</td>\n",
       "      <td>LCC</td>\n",
       "      <td>RCC</td>\n",
       "      <td>case</td>\n",
       "      <td>48.0</td>\n",
       "      <td>23.74</td>\n",
       "    </tr>\n",
       "    <tr>\n",
       "      <th>3</th>\n",
       "      <td>train</td>\n",
       "      <td>no</td>\n",
       "      <td>yes</td>\n",
       "      <td>numpy/image_256x256/asan/10531695_LCC_20090205...</td>\n",
       "      <td>10531695_LCC_20090205.dcm</td>\n",
       "      <td>asan</td>\n",
       "      <td>10531695</td>\n",
       "      <td>20090205.dcm</td>\n",
       "      <td>LCC</td>\n",
       "      <td>NaN</td>\n",
       "      <td>control</td>\n",
       "      <td>55.0</td>\n",
       "      <td>21.841</td>\n",
       "    </tr>\n",
       "    <tr>\n",
       "      <th>5</th>\n",
       "      <td>train</td>\n",
       "      <td>yes</td>\n",
       "      <td>yes</td>\n",
       "      <td>numpy/image_256x256/asan/10531811_LCC_20080218...</td>\n",
       "      <td>10531811_LCC_20080218.dcm</td>\n",
       "      <td>asan</td>\n",
       "      <td>10531811</td>\n",
       "      <td>20080218.dcm</td>\n",
       "      <td>LCC</td>\n",
       "      <td>RCC</td>\n",
       "      <td>case</td>\n",
       "      <td>52.0</td>\n",
       "      <td>28.76</td>\n",
       "    </tr>\n",
       "    <tr>\n",
       "      <th>6</th>\n",
       "      <td>train</td>\n",
       "      <td>yes</td>\n",
       "      <td>yes</td>\n",
       "      <td>numpy/image_256x256/asan/10532852_LCC_20071214...</td>\n",
       "      <td>10532852_LCC_20071214.dcm</td>\n",
       "      <td>asan</td>\n",
       "      <td>10532852</td>\n",
       "      <td>20071214.dcm</td>\n",
       "      <td>LCC</td>\n",
       "      <td>NaN</td>\n",
       "      <td>control</td>\n",
       "      <td>49.0</td>\n",
       "      <td>19.453</td>\n",
       "    </tr>\n",
       "    <tr>\n",
       "      <th>...</th>\n",
       "      <td>...</td>\n",
       "      <td>...</td>\n",
       "      <td>...</td>\n",
       "      <td>...</td>\n",
       "      <td>...</td>\n",
       "      <td>...</td>\n",
       "      <td>...</td>\n",
       "      <td>...</td>\n",
       "      <td>...</td>\n",
       "      <td>...</td>\n",
       "      <td>...</td>\n",
       "      <td>...</td>\n",
       "      <td>...</td>\n",
       "    </tr>\n",
       "    <tr>\n",
       "      <th>20616</th>\n",
       "      <td>train</td>\n",
       "      <td>no</td>\n",
       "      <td>no</td>\n",
       "      <td>numpy/image_256x256/twin/E2004740_RCC_20071024...</td>\n",
       "      <td>E2004740_RCC_20071024.dcm</td>\n",
       "      <td>twin</td>\n",
       "      <td>E2004740</td>\n",
       "      <td>20071024.dcm</td>\n",
       "      <td>RCC</td>\n",
       "      <td>NaN</td>\n",
       "      <td>control</td>\n",
       "      <td>37.0</td>\n",
       "      <td>28.25</td>\n",
       "    </tr>\n",
       "    <tr>\n",
       "      <th>20617</th>\n",
       "      <td>train</td>\n",
       "      <td>no</td>\n",
       "      <td>no</td>\n",
       "      <td>numpy/image_256x256/twin/E2004750_RCC_20071024...</td>\n",
       "      <td>E2004750_RCC_20071024.dcm</td>\n",
       "      <td>twin</td>\n",
       "      <td>E2004750</td>\n",
       "      <td>20071024.dcm</td>\n",
       "      <td>RCC</td>\n",
       "      <td>NaN</td>\n",
       "      <td>control</td>\n",
       "      <td>37.0</td>\n",
       "      <td>24.41</td>\n",
       "    </tr>\n",
       "    <tr>\n",
       "      <th>20618</th>\n",
       "      <td>test</td>\n",
       "      <td>no</td>\n",
       "      <td>no</td>\n",
       "      <td>numpy/image_256x256/twin/E2004770_LCC_20071024...</td>\n",
       "      <td>E2004770_LCC_20071024.dcm</td>\n",
       "      <td>twin</td>\n",
       "      <td>E2004770</td>\n",
       "      <td>20071024.dcm</td>\n",
       "      <td>LCC</td>\n",
       "      <td>NaN</td>\n",
       "      <td>control</td>\n",
       "      <td>35.0</td>\n",
       "      <td>21.84</td>\n",
       "    </tr>\n",
       "    <tr>\n",
       "      <th>20619</th>\n",
       "      <td>train</td>\n",
       "      <td>no</td>\n",
       "      <td>no</td>\n",
       "      <td>numpy/image_256x256/twin/E2004780_RCC_20071024...</td>\n",
       "      <td>E2004780_RCC_20071024.dcm</td>\n",
       "      <td>twin</td>\n",
       "      <td>E2004780</td>\n",
       "      <td>20071024.dcm</td>\n",
       "      <td>RCC</td>\n",
       "      <td>NaN</td>\n",
       "      <td>control</td>\n",
       "      <td>35.0</td>\n",
       "      <td>23.13</td>\n",
       "    </tr>\n",
       "    <tr>\n",
       "      <th>20620</th>\n",
       "      <td>train</td>\n",
       "      <td>no</td>\n",
       "      <td>no</td>\n",
       "      <td>numpy/image_256x256/twin/E3000450_RCC_20120910...</td>\n",
       "      <td>E3000450_RCC_20120910.dcm</td>\n",
       "      <td>twin</td>\n",
       "      <td>E3000450</td>\n",
       "      <td>20120910.dcm</td>\n",
       "      <td>RCC</td>\n",
       "      <td>NaN</td>\n",
       "      <td>control</td>\n",
       "      <td>37.0</td>\n",
       "      <td>21.7</td>\n",
       "    </tr>\n",
       "  </tbody>\n",
       "</table>\n",
       "<p>34118 rows × 13 columns</p>\n",
       "</div>"
      ],
      "text/plain": [
       "      dataset dataset_density dataset_image  \\\n",
       "0       train              no           yes   \n",
       "2         val             yes           yes   \n",
       "3       train              no           yes   \n",
       "5       train             yes           yes   \n",
       "6       train             yes           yes   \n",
       "...       ...             ...           ...   \n",
       "20616   train              no            no   \n",
       "20617   train              no            no   \n",
       "20618    test              no            no   \n",
       "20619   train              no            no   \n",
       "20620   train              no            no   \n",
       "\n",
       "                                              file_image  \\\n",
       "0      numpy/image_256x256/asan/10512416_LCC_20070829...   \n",
       "2      numpy/image_256x256/asan/10516254_LCC_20080709...   \n",
       "3      numpy/image_256x256/asan/10531695_LCC_20090205...   \n",
       "5      numpy/image_256x256/asan/10531811_LCC_20080218...   \n",
       "6      numpy/image_256x256/asan/10532852_LCC_20071214...   \n",
       "...                                                  ...   \n",
       "20616  numpy/image_256x256/twin/E2004740_RCC_20071024...   \n",
       "20617  numpy/image_256x256/twin/E2004750_RCC_20071024...   \n",
       "20618  numpy/image_256x256/twin/E2004770_LCC_20071024...   \n",
       "20619  numpy/image_256x256/twin/E2004780_RCC_20071024...   \n",
       "20620  numpy/image_256x256/twin/E3000450_RCC_20120910...   \n",
       "\n",
       "                            file CENTER        ID          DATE SIDE  \\\n",
       "0      10512416_LCC_20070829.dcm   asan  10512416  20070829.dcm  LCC   \n",
       "2      10516254_LCC_20080709.dcm   asan  10516254  20080709.dcm  LCC   \n",
       "3      10531695_LCC_20090205.dcm   asan  10531695  20090205.dcm  LCC   \n",
       "5      10531811_LCC_20080218.dcm   asan  10531811  20080218.dcm  LCC   \n",
       "6      10532852_LCC_20071214.dcm   asan  10532852  20071214.dcm  LCC   \n",
       "...                          ...    ...       ...           ...  ...   \n",
       "20616  E2004740_RCC_20071024.dcm   twin  E2004740  20071024.dcm  RCC   \n",
       "20617  E2004750_RCC_20071024.dcm   twin  E2004750  20071024.dcm  RCC   \n",
       "20618  E2004770_LCC_20071024.dcm   twin  E2004770  20071024.dcm  LCC   \n",
       "20619  E2004780_RCC_20071024.dcm   twin  E2004780  20071024.dcm  RCC   \n",
       "20620  E3000450_RCC_20120910.dcm   twin  E3000450  20120910.dcm  RCC   \n",
       "\n",
       "      SIDE_case    GROUP   AGE     BMI  \n",
       "0           NaN  control  44.0   20.82  \n",
       "2           RCC     case  48.0   23.74  \n",
       "3           NaN  control  55.0  21.841  \n",
       "5           RCC     case  52.0   28.76  \n",
       "6           NaN  control  49.0  19.453  \n",
       "...         ...      ...   ...     ...  \n",
       "20616       NaN  control  37.0   28.25  \n",
       "20617       NaN  control  37.0   24.41  \n",
       "20618       NaN  control  35.0   21.84  \n",
       "20619       NaN  control  35.0   23.13  \n",
       "20620       NaN  control  37.0    21.7  \n",
       "\n",
       "[34118 rows x 13 columns]"
      ]
     },
     "execution_count": 84,
     "metadata": {},
     "output_type": "execute_result"
    }
   ],
   "source": [
    "df_image"
   ]
  },
  {
   "cell_type": "code",
   "execution_count": 85,
   "id": "constant-pathology",
   "metadata": {},
   "outputs": [
    {
     "data": {
      "text/plain": [
       "dataset_density  dataset_image  CENTER \n",
       "no               no             ncc2020    6756\n",
       "yes              yes            ncc2020    3752\n",
       "no               yes            samsung    3562\n",
       "                 no             samsung    3235\n",
       "                                ncc2018    3147\n",
       "                                brmh       2833\n",
       "yes              no             ncc2020    2227\n",
       "no               yes            ncc2020    2227\n",
       "yes              yes            asan       1424\n",
       "no               no             twin        900\n",
       "                 yes            twin        896\n",
       "                                ncc2018     805\n",
       "                 no             asan        697\n",
       "                 yes            asan        683\n",
       "yes              no             asan        679\n",
       "no               yes            ilsan       148\n",
       "                 no             ilsan       147\n",
       "dtype: int64"
      ]
     },
     "execution_count": 85,
     "metadata": {},
     "output_type": "execute_result"
    }
   ],
   "source": [
    "df_image.value_counts([\"dataset_density\",\"dataset_image\",\"CENTER\"])"
   ]
  },
  {
   "cell_type": "code",
   "execution_count": 86,
   "id": "educated-colon",
   "metadata": {},
   "outputs": [
    {
     "data": {
      "text/plain": [
       "CENTER   GROUP  \n",
       "ncc2020  control    3139\n",
       "         case       1017\n",
       "asan     control     980\n",
       "ncc2018  control     553\n",
       "asan     case        523\n",
       "twin     control     468\n",
       "samsung  control     418\n",
       "         case        277\n",
       "ilsan    control      79\n",
       "         case         24\n",
       "dtype: int64"
      ]
     },
     "execution_count": 86,
     "metadata": {},
     "output_type": "execute_result"
    }
   ],
   "source": [
    "df_image[(df_image.dataset_image==\"yes\") & (df_image.dataset==\"train\")].value_counts([\"CENTER\",\"GROUP\"])"
   ]
  },
  {
   "cell_type": "code",
   "execution_count": 87,
   "id": "concrete-organizer",
   "metadata": {},
   "outputs": [
    {
     "data": {
      "text/plain": [
       "CENTER   GROUP  \n",
       "ncc2020  control    3139\n",
       "         case       1017\n",
       "asan     control     978\n",
       "         case        523\n",
       "dtype: int64"
      ]
     },
     "execution_count": 87,
     "metadata": {},
     "output_type": "execute_result"
    }
   ],
   "source": [
    "df_image[(df_image.dataset_density==\"yes\") & (df_image.dataset==\"train\")].value_counts([\"CENTER\",\"GROUP\"])"
   ]
  },
  {
   "cell_type": "code",
   "execution_count": 88,
   "id": "6a779264",
   "metadata": {},
   "outputs": [
    {
     "data": {
      "text/plain": [
       "CENTER\n",
       "ncc2020    14962\n",
       "samsung     6797\n",
       "ncc2018     3952\n",
       "asan        3483\n",
       "brmh        2833\n",
       "twin        1796\n",
       "ilsan        295\n",
       "dtype: int64"
      ]
     },
     "execution_count": 88,
     "metadata": {},
     "output_type": "execute_result"
    }
   ],
   "source": [
    "df_image.value_counts(\"CENTER\")"
   ]
  },
  {
   "cell_type": "code",
   "execution_count": 94,
   "id": "d527879f",
   "metadata": {},
   "outputs": [
    {
     "data": {
      "text/plain": [
       "34118"
      ]
     },
     "execution_count": 94,
     "metadata": {},
     "output_type": "execute_result"
    }
   ],
   "source": [
    "len(df_image) #34118"
   ]
  },
  {
   "cell_type": "code",
   "execution_count": 89,
   "id": "c06c4a9b",
   "metadata": {},
   "outputs": [
    {
     "data": {
      "text/plain": [
       "dataset\n",
       "train        14006\n",
       "NONE          8465\n",
       "follow-up     5623\n",
       "cal           2011\n",
       "test          2010\n",
       "val           2003\n",
       "dtype: int64"
      ]
     },
     "execution_count": 89,
     "metadata": {},
     "output_type": "execute_result"
    }
   ],
   "source": [
    "df_image.value_counts(\"dataset\")"
   ]
  },
  {
   "cell_type": "code",
   "execution_count": 95,
   "id": "bright-grave",
   "metadata": {},
   "outputs": [],
   "source": [
    "df_image.to_csv(\"csv/train.csv\", index=False)"
   ]
  },
  {
   "cell_type": "code",
   "execution_count": 90,
   "id": "9666e050",
   "metadata": {},
   "outputs": [],
   "source": [
    "import getfinal as f"
   ]
  },
  {
   "cell_type": "code",
   "execution_count": 91,
   "id": "virtual-minutes",
   "metadata": {},
   "outputs": [
    {
     "name": "stdout",
     "output_type": "stream",
     "text": [
      "dicom/asan/10512416_LCC_20070829.dcm\n"
     ]
    }
   ],
   "source": [
    "i=0\n",
    "file = 'dicom/'+df.CENTER[i]+'/'+ df.file[i]\n",
    "print(file)\n",
    "dicom = f.get_dicom(file)\n",
    "final = f.get_final5(file)\n",
    "image = np.load(df.file_image[i])"
   ]
  },
  {
   "cell_type": "code",
   "execution_count": 93,
   "id": "worldwide-revision",
   "metadata": {},
   "outputs": [
    {
     "name": "stdout",
     "output_type": "stream",
     "text": [
      "numpy/image_256x256/ncc2020/24239_RCC_19000101.npy\n"
     ]
    },
    {
     "data": {
      "image/png": "[encoded data removed]",
      "text/plain": [
       "<Figure size 432x288 with 1 Axes>"
      ]
     },
     "metadata": {
      "needs_background": "light"
     },
     "output_type": "display_data"
    }
   ],
   "source": [
    "i = random.choice(range(len(list_images)))\n",
    "file = df.loc[i,\"file_image\"]\n",
    "print(file)\n",
    "f.p(np.load(file))"
   ]
  }
 ],
 "metadata": {
  "kernelspec": {
   "display_name": "Python 3 (ipykernel)",
   "language": "python",
   "name": "python3"
  },
  "language_info": {
   "codemirror_mode": {
    "name": "ipython",
    "version": 3
   },
   "file_extension": ".py",
   "mimetype": "text/x-python",
   "name": "python",
   "nbconvert_exporter": "python",
   "pygments_lexer": "ipython3",
   "version": "3.9.15"
  },
  "toc": {
   "base_numbering": 1,
   "nav_menu": {},
   "number_sections": true,
   "sideBar": true,
   "skip_h1_title": false,
   "title_cell": "Table of Contents",
   "title_sidebar": "Contents",
   "toc_cell": false,
   "toc_position": {},
   "toc_section_display": true,
   "toc_window_display": false
  }
 },
 "nbformat": 4,
 "nbformat_minor": 5
}
